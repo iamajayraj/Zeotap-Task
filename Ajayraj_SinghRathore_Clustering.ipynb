{
 "cells": [
  {
   "cell_type": "code",
   "execution_count": 219,
   "id": "7659715c-8df4-405c-a221-1f90676bb601",
   "metadata": {},
   "outputs": [],
   "source": [
    "import pandas as pd\n",
    "import numpy as np\n",
    "from sklearn.preprocessing import StandardScaler\n",
    "from sklearn.cluster import KMeans,DBSCAN,AgglomerativeClustering\n",
    "from sklearn.mixture import GaussianMixture\n",
    "from sklearn.metrics import davies_bouldin_score,silhouette_score\n",
    "from sklearn.decomposition import PCA\n",
    "import matplotlib.pyplot as plt\n",
    "import plotly.express as px"
   ]
  },
  {
   "cell_type": "code",
   "execution_count": 44,
   "id": "9c760e2d-ba9b-4af5-9bac-943172217bea",
   "metadata": {},
   "outputs": [],
   "source": [
    "customers = pd.read_csv(r\"E:\\Datasets\\Zeotap Task\\Customers.csv\")\n",
    "customers['SignupDate'] = pd.to_datetime(cust['SignupDate'])\n",
    "products = pd.read_csv(r\"E:\\Datasets\\Zeotap Task\\Products.csv\")\n",
    "transactions = pd.read_csv(r\"E:\\Datasets\\Zeotap Task\\Transactions.csv\")\n",
    "transactions['TransactionDate'] = pd.to_datetime(trans['TransactionDate'])\n",
    "\n",
    "merged_data = trans.merge(cust, on='CustomerID').merge(prod.drop('Price',axis=1), on='ProductID')"
   ]
  },
  {
   "cell_type": "code",
   "execution_count": 45,
   "id": "61634a56-bd29-4124-a1c6-dbf79d9bc3d0",
   "metadata": {},
   "outputs": [],
   "source": [
    "last_date = transactions['TransactionDate'].max()\n",
    "customers['Tenure'] = (last_date - customers['SignupDate']).dt.days"
   ]
  },
  {
   "cell_type": "code",
   "execution_count": 46,
   "id": "cf98ccef-1d46-4c9d-aab9-57d78d5a1f5c",
   "metadata": {},
   "outputs": [],
   "source": [
    "transaction_agg = transactions.groupby('CustomerID').agg(\n",
    "    TotalTransactions=('TransactionID', 'count'),\n",
    "    TotalQuantity=('Quantity', 'sum'),\n",
    "    TotalSpent=('TotalValue', 'sum'),\n",
    "    AvgTransactionValue=('TotalValue', 'mean'),\n",
    "    LastPurchaseDate=('TransactionDate', 'max'),\n",
    "    UniqueProducts=('ProductID', 'nunique')\n",
    ").reset_index()"
   ]
  },
  {
   "cell_type": "code",
   "execution_count": 47,
   "id": "57286b53-61c1-418f-90f2-f1ee96f4d272",
   "metadata": {},
   "outputs": [
    {
     "data": {
      "text/html": [
       "<div>\n",
       "<style scoped>\n",
       "    .dataframe tbody tr th:only-of-type {\n",
       "        vertical-align: middle;\n",
       "    }\n",
       "\n",
       "    .dataframe tbody tr th {\n",
       "        vertical-align: top;\n",
       "    }\n",
       "\n",
       "    .dataframe thead th {\n",
       "        text-align: right;\n",
       "    }\n",
       "</style>\n",
       "<table border=\"1\" class=\"dataframe\">\n",
       "  <thead>\n",
       "    <tr style=\"text-align: right;\">\n",
       "      <th></th>\n",
       "      <th>CustomerID</th>\n",
       "      <th>TotalTransactions</th>\n",
       "      <th>TotalQuantity</th>\n",
       "      <th>TotalSpent</th>\n",
       "      <th>AvgTransactionValue</th>\n",
       "      <th>LastPurchaseDate</th>\n",
       "      <th>UniqueProducts</th>\n",
       "    </tr>\n",
       "  </thead>\n",
       "  <tbody>\n",
       "    <tr>\n",
       "      <th>0</th>\n",
       "      <td>C0001</td>\n",
       "      <td>5</td>\n",
       "      <td>12</td>\n",
       "      <td>3354.52</td>\n",
       "      <td>670.904000</td>\n",
       "      <td>2024-11-02 17:04:16</td>\n",
       "      <td>5</td>\n",
       "    </tr>\n",
       "    <tr>\n",
       "      <th>1</th>\n",
       "      <td>C0002</td>\n",
       "      <td>4</td>\n",
       "      <td>10</td>\n",
       "      <td>1862.74</td>\n",
       "      <td>465.685000</td>\n",
       "      <td>2024-12-03 01:41:41</td>\n",
       "      <td>4</td>\n",
       "    </tr>\n",
       "    <tr>\n",
       "      <th>2</th>\n",
       "      <td>C0003</td>\n",
       "      <td>4</td>\n",
       "      <td>14</td>\n",
       "      <td>2725.38</td>\n",
       "      <td>681.345000</td>\n",
       "      <td>2024-08-24 18:54:04</td>\n",
       "      <td>4</td>\n",
       "    </tr>\n",
       "    <tr>\n",
       "      <th>3</th>\n",
       "      <td>C0004</td>\n",
       "      <td>8</td>\n",
       "      <td>23</td>\n",
       "      <td>5354.88</td>\n",
       "      <td>669.360000</td>\n",
       "      <td>2024-12-23 14:13:52</td>\n",
       "      <td>8</td>\n",
       "    </tr>\n",
       "    <tr>\n",
       "      <th>4</th>\n",
       "      <td>C0005</td>\n",
       "      <td>3</td>\n",
       "      <td>7</td>\n",
       "      <td>2034.24</td>\n",
       "      <td>678.080000</td>\n",
       "      <td>2024-11-04 00:30:22</td>\n",
       "      <td>3</td>\n",
       "    </tr>\n",
       "    <tr>\n",
       "      <th>...</th>\n",
       "      <td>...</td>\n",
       "      <td>...</td>\n",
       "      <td>...</td>\n",
       "      <td>...</td>\n",
       "      <td>...</td>\n",
       "      <td>...</td>\n",
       "      <td>...</td>\n",
       "    </tr>\n",
       "    <tr>\n",
       "      <th>194</th>\n",
       "      <td>C0196</td>\n",
       "      <td>4</td>\n",
       "      <td>12</td>\n",
       "      <td>4982.88</td>\n",
       "      <td>1245.720000</td>\n",
       "      <td>2024-12-15 03:43:35</td>\n",
       "      <td>3</td>\n",
       "    </tr>\n",
       "    <tr>\n",
       "      <th>195</th>\n",
       "      <td>C0197</td>\n",
       "      <td>3</td>\n",
       "      <td>9</td>\n",
       "      <td>1928.65</td>\n",
       "      <td>642.883333</td>\n",
       "      <td>2024-12-27 18:20:31</td>\n",
       "      <td>3</td>\n",
       "    </tr>\n",
       "    <tr>\n",
       "      <th>196</th>\n",
       "      <td>C0198</td>\n",
       "      <td>2</td>\n",
       "      <td>3</td>\n",
       "      <td>931.83</td>\n",
       "      <td>465.915000</td>\n",
       "      <td>2024-10-04 18:31:12</td>\n",
       "      <td>2</td>\n",
       "    </tr>\n",
       "    <tr>\n",
       "      <th>197</th>\n",
       "      <td>C0199</td>\n",
       "      <td>4</td>\n",
       "      <td>9</td>\n",
       "      <td>1979.28</td>\n",
       "      <td>494.820000</td>\n",
       "      <td>2024-10-26 00:01:58</td>\n",
       "      <td>4</td>\n",
       "    </tr>\n",
       "    <tr>\n",
       "      <th>198</th>\n",
       "      <td>C0200</td>\n",
       "      <td>5</td>\n",
       "      <td>16</td>\n",
       "      <td>4758.60</td>\n",
       "      <td>951.720000</td>\n",
       "      <td>2024-12-11 03:05:50</td>\n",
       "      <td>5</td>\n",
       "    </tr>\n",
       "  </tbody>\n",
       "</table>\n",
       "<p>199 rows × 7 columns</p>\n",
       "</div>"
      ],
      "text/plain": [
       "    CustomerID  TotalTransactions  TotalQuantity  TotalSpent  \\\n",
       "0        C0001                  5             12     3354.52   \n",
       "1        C0002                  4             10     1862.74   \n",
       "2        C0003                  4             14     2725.38   \n",
       "3        C0004                  8             23     5354.88   \n",
       "4        C0005                  3              7     2034.24   \n",
       "..         ...                ...            ...         ...   \n",
       "194      C0196                  4             12     4982.88   \n",
       "195      C0197                  3              9     1928.65   \n",
       "196      C0198                  2              3      931.83   \n",
       "197      C0199                  4              9     1979.28   \n",
       "198      C0200                  5             16     4758.60   \n",
       "\n",
       "     AvgTransactionValue    LastPurchaseDate  UniqueProducts  \n",
       "0             670.904000 2024-11-02 17:04:16               5  \n",
       "1             465.685000 2024-12-03 01:41:41               4  \n",
       "2             681.345000 2024-08-24 18:54:04               4  \n",
       "3             669.360000 2024-12-23 14:13:52               8  \n",
       "4             678.080000 2024-11-04 00:30:22               3  \n",
       "..                   ...                 ...             ...  \n",
       "194          1245.720000 2024-12-15 03:43:35               3  \n",
       "195           642.883333 2024-12-27 18:20:31               3  \n",
       "196           465.915000 2024-10-04 18:31:12               2  \n",
       "197           494.820000 2024-10-26 00:01:58               4  \n",
       "198           951.720000 2024-12-11 03:05:50               5  \n",
       "\n",
       "[199 rows x 7 columns]"
      ]
     },
     "execution_count": 47,
     "metadata": {},
     "output_type": "execute_result"
    }
   ],
   "source": [
    "transaction_agg"
   ]
  },
  {
   "cell_type": "code",
   "execution_count": 48,
   "id": "bbe7fd58-3120-46d1-944b-f35e55ed1610",
   "metadata": {},
   "outputs": [],
   "source": [
    "transaction_agg['Recency'] = (last_date - pd.to_datetime(transaction_agg['LastPurchaseDate'])).dt.days"
   ]
  },
  {
   "cell_type": "code",
   "execution_count": 49,
   "id": "dc5924f5-62ad-4a45-ac4b-91df93c8f1ca",
   "metadata": {},
   "outputs": [],
   "source": [
    "transaction_agg.drop('LastPurchaseDate', axis=1, inplace=True)"
   ]
  },
  {
   "cell_type": "code",
   "execution_count": 50,
   "id": "afb370d4-defe-4180-b23e-74bbbac570bf",
   "metadata": {},
   "outputs": [
    {
     "data": {
      "text/html": [
       "<div>\n",
       "<style scoped>\n",
       "    .dataframe tbody tr th:only-of-type {\n",
       "        vertical-align: middle;\n",
       "    }\n",
       "\n",
       "    .dataframe tbody tr th {\n",
       "        vertical-align: top;\n",
       "    }\n",
       "\n",
       "    .dataframe thead th {\n",
       "        text-align: right;\n",
       "    }\n",
       "</style>\n",
       "<table border=\"1\" class=\"dataframe\">\n",
       "  <thead>\n",
       "    <tr style=\"text-align: right;\">\n",
       "      <th></th>\n",
       "      <th>CustomerID</th>\n",
       "      <th>TotalTransactions</th>\n",
       "      <th>TotalQuantity</th>\n",
       "      <th>TotalSpent</th>\n",
       "      <th>AvgTransactionValue</th>\n",
       "      <th>UniqueProducts</th>\n",
       "      <th>Recency</th>\n",
       "    </tr>\n",
       "  </thead>\n",
       "  <tbody>\n",
       "    <tr>\n",
       "      <th>0</th>\n",
       "      <td>C0001</td>\n",
       "      <td>5</td>\n",
       "      <td>12</td>\n",
       "      <td>3354.52</td>\n",
       "      <td>670.904000</td>\n",
       "      <td>5</td>\n",
       "      <td>55</td>\n",
       "    </tr>\n",
       "    <tr>\n",
       "      <th>1</th>\n",
       "      <td>C0002</td>\n",
       "      <td>4</td>\n",
       "      <td>10</td>\n",
       "      <td>1862.74</td>\n",
       "      <td>465.685000</td>\n",
       "      <td>4</td>\n",
       "      <td>25</td>\n",
       "    </tr>\n",
       "    <tr>\n",
       "      <th>2</th>\n",
       "      <td>C0003</td>\n",
       "      <td>4</td>\n",
       "      <td>14</td>\n",
       "      <td>2725.38</td>\n",
       "      <td>681.345000</td>\n",
       "      <td>4</td>\n",
       "      <td>125</td>\n",
       "    </tr>\n",
       "    <tr>\n",
       "      <th>3</th>\n",
       "      <td>C0004</td>\n",
       "      <td>8</td>\n",
       "      <td>23</td>\n",
       "      <td>5354.88</td>\n",
       "      <td>669.360000</td>\n",
       "      <td>8</td>\n",
       "      <td>4</td>\n",
       "    </tr>\n",
       "    <tr>\n",
       "      <th>4</th>\n",
       "      <td>C0005</td>\n",
       "      <td>3</td>\n",
       "      <td>7</td>\n",
       "      <td>2034.24</td>\n",
       "      <td>678.080000</td>\n",
       "      <td>3</td>\n",
       "      <td>54</td>\n",
       "    </tr>\n",
       "    <tr>\n",
       "      <th>...</th>\n",
       "      <td>...</td>\n",
       "      <td>...</td>\n",
       "      <td>...</td>\n",
       "      <td>...</td>\n",
       "      <td>...</td>\n",
       "      <td>...</td>\n",
       "      <td>...</td>\n",
       "    </tr>\n",
       "    <tr>\n",
       "      <th>194</th>\n",
       "      <td>C0196</td>\n",
       "      <td>4</td>\n",
       "      <td>12</td>\n",
       "      <td>4982.88</td>\n",
       "      <td>1245.720000</td>\n",
       "      <td>3</td>\n",
       "      <td>13</td>\n",
       "    </tr>\n",
       "    <tr>\n",
       "      <th>195</th>\n",
       "      <td>C0197</td>\n",
       "      <td>3</td>\n",
       "      <td>9</td>\n",
       "      <td>1928.65</td>\n",
       "      <td>642.883333</td>\n",
       "      <td>3</td>\n",
       "      <td>0</td>\n",
       "    </tr>\n",
       "    <tr>\n",
       "      <th>196</th>\n",
       "      <td>C0198</td>\n",
       "      <td>2</td>\n",
       "      <td>3</td>\n",
       "      <td>931.83</td>\n",
       "      <td>465.915000</td>\n",
       "      <td>2</td>\n",
       "      <td>84</td>\n",
       "    </tr>\n",
       "    <tr>\n",
       "      <th>197</th>\n",
       "      <td>C0199</td>\n",
       "      <td>4</td>\n",
       "      <td>9</td>\n",
       "      <td>1979.28</td>\n",
       "      <td>494.820000</td>\n",
       "      <td>4</td>\n",
       "      <td>63</td>\n",
       "    </tr>\n",
       "    <tr>\n",
       "      <th>198</th>\n",
       "      <td>C0200</td>\n",
       "      <td>5</td>\n",
       "      <td>16</td>\n",
       "      <td>4758.60</td>\n",
       "      <td>951.720000</td>\n",
       "      <td>5</td>\n",
       "      <td>17</td>\n",
       "    </tr>\n",
       "  </tbody>\n",
       "</table>\n",
       "<p>199 rows × 7 columns</p>\n",
       "</div>"
      ],
      "text/plain": [
       "    CustomerID  TotalTransactions  TotalQuantity  TotalSpent  \\\n",
       "0        C0001                  5             12     3354.52   \n",
       "1        C0002                  4             10     1862.74   \n",
       "2        C0003                  4             14     2725.38   \n",
       "3        C0004                  8             23     5354.88   \n",
       "4        C0005                  3              7     2034.24   \n",
       "..         ...                ...            ...         ...   \n",
       "194      C0196                  4             12     4982.88   \n",
       "195      C0197                  3              9     1928.65   \n",
       "196      C0198                  2              3      931.83   \n",
       "197      C0199                  4              9     1979.28   \n",
       "198      C0200                  5             16     4758.60   \n",
       "\n",
       "     AvgTransactionValue  UniqueProducts  Recency  \n",
       "0             670.904000               5       55  \n",
       "1             465.685000               4       25  \n",
       "2             681.345000               4      125  \n",
       "3             669.360000               8        4  \n",
       "4             678.080000               3       54  \n",
       "..                   ...             ...      ...  \n",
       "194          1245.720000               3       13  \n",
       "195           642.883333               3        0  \n",
       "196           465.915000               2       84  \n",
       "197           494.820000               4       63  \n",
       "198           951.720000               5       17  \n",
       "\n",
       "[199 rows x 7 columns]"
      ]
     },
     "execution_count": 50,
     "metadata": {},
     "output_type": "execute_result"
    }
   ],
   "source": [
    "transaction_agg"
   ]
  },
  {
   "cell_type": "code",
   "execution_count": 51,
   "id": "9b58caec-67ab-4ebf-a403-055d2c7187ba",
   "metadata": {},
   "outputs": [],
   "source": [
    "transactions_with_cat = pd.merge(transactions, products[['ProductID', 'Category']], on='ProductID', how='left')\n",
    "category_counts = pd.crosstab(transactions_with_cat['CustomerID'], transactions_with_cat['Category'])"
   ]
  },
  {
   "cell_type": "code",
   "execution_count": 52,
   "id": "fe9ab5d9-172a-49dd-9faa-6c3557a9c759",
   "metadata": {},
   "outputs": [
    {
     "data": {
      "text/html": [
       "<div>\n",
       "<style scoped>\n",
       "    .dataframe tbody tr th:only-of-type {\n",
       "        vertical-align: middle;\n",
       "    }\n",
       "\n",
       "    .dataframe tbody tr th {\n",
       "        vertical-align: top;\n",
       "    }\n",
       "\n",
       "    .dataframe thead th {\n",
       "        text-align: right;\n",
       "    }\n",
       "</style>\n",
       "<table border=\"1\" class=\"dataframe\">\n",
       "  <thead>\n",
       "    <tr style=\"text-align: right;\">\n",
       "      <th>Category</th>\n",
       "      <th>Books</th>\n",
       "      <th>Clothing</th>\n",
       "      <th>Electronics</th>\n",
       "      <th>Home Decor</th>\n",
       "    </tr>\n",
       "    <tr>\n",
       "      <th>CustomerID</th>\n",
       "      <th></th>\n",
       "      <th></th>\n",
       "      <th></th>\n",
       "      <th></th>\n",
       "    </tr>\n",
       "  </thead>\n",
       "  <tbody>\n",
       "    <tr>\n",
       "      <th>C0001</th>\n",
       "      <td>1</td>\n",
       "      <td>0</td>\n",
       "      <td>3</td>\n",
       "      <td>1</td>\n",
       "    </tr>\n",
       "    <tr>\n",
       "      <th>C0002</th>\n",
       "      <td>0</td>\n",
       "      <td>2</td>\n",
       "      <td>0</td>\n",
       "      <td>2</td>\n",
       "    </tr>\n",
       "    <tr>\n",
       "      <th>C0003</th>\n",
       "      <td>0</td>\n",
       "      <td>1</td>\n",
       "      <td>1</td>\n",
       "      <td>2</td>\n",
       "    </tr>\n",
       "    <tr>\n",
       "      <th>C0004</th>\n",
       "      <td>3</td>\n",
       "      <td>0</td>\n",
       "      <td>2</td>\n",
       "      <td>3</td>\n",
       "    </tr>\n",
       "    <tr>\n",
       "      <th>C0005</th>\n",
       "      <td>0</td>\n",
       "      <td>0</td>\n",
       "      <td>2</td>\n",
       "      <td>1</td>\n",
       "    </tr>\n",
       "    <tr>\n",
       "      <th>...</th>\n",
       "      <td>...</td>\n",
       "      <td>...</td>\n",
       "      <td>...</td>\n",
       "      <td>...</td>\n",
       "    </tr>\n",
       "    <tr>\n",
       "      <th>C0196</th>\n",
       "      <td>1</td>\n",
       "      <td>1</td>\n",
       "      <td>0</td>\n",
       "      <td>2</td>\n",
       "    </tr>\n",
       "    <tr>\n",
       "      <th>C0197</th>\n",
       "      <td>0</td>\n",
       "      <td>0</td>\n",
       "      <td>2</td>\n",
       "      <td>1</td>\n",
       "    </tr>\n",
       "    <tr>\n",
       "      <th>C0198</th>\n",
       "      <td>0</td>\n",
       "      <td>1</td>\n",
       "      <td>1</td>\n",
       "      <td>0</td>\n",
       "    </tr>\n",
       "    <tr>\n",
       "      <th>C0199</th>\n",
       "      <td>0</td>\n",
       "      <td>0</td>\n",
       "      <td>2</td>\n",
       "      <td>2</td>\n",
       "    </tr>\n",
       "    <tr>\n",
       "      <th>C0200</th>\n",
       "      <td>1</td>\n",
       "      <td>2</td>\n",
       "      <td>1</td>\n",
       "      <td>1</td>\n",
       "    </tr>\n",
       "  </tbody>\n",
       "</table>\n",
       "<p>199 rows × 4 columns</p>\n",
       "</div>"
      ],
      "text/plain": [
       "Category    Books  Clothing  Electronics  Home Decor\n",
       "CustomerID                                          \n",
       "C0001           1         0            3           1\n",
       "C0002           0         2            0           2\n",
       "C0003           0         1            1           2\n",
       "C0004           3         0            2           3\n",
       "C0005           0         0            2           1\n",
       "...           ...       ...          ...         ...\n",
       "C0196           1         1            0           2\n",
       "C0197           0         0            2           1\n",
       "C0198           0         1            1           0\n",
       "C0199           0         0            2           2\n",
       "C0200           1         2            1           1\n",
       "\n",
       "[199 rows x 4 columns]"
      ]
     },
     "execution_count": 52,
     "metadata": {},
     "output_type": "execute_result"
    }
   ],
   "source": [
    "category_counts"
   ]
  },
  {
   "cell_type": "code",
   "execution_count": 53,
   "id": "b8c3e14f-fff1-4914-90b0-0374fc7f18f1",
   "metadata": {},
   "outputs": [],
   "source": [
    "transaction_agg = transaction_agg.merge(category_counts, on='CustomerID', how='left')"
   ]
  },
  {
   "cell_type": "code",
   "execution_count": 54,
   "id": "1255f3e8-a122-4967-a583-710e9818d6e9",
   "metadata": {},
   "outputs": [
    {
     "data": {
      "text/html": [
       "<div>\n",
       "<style scoped>\n",
       "    .dataframe tbody tr th:only-of-type {\n",
       "        vertical-align: middle;\n",
       "    }\n",
       "\n",
       "    .dataframe tbody tr th {\n",
       "        vertical-align: top;\n",
       "    }\n",
       "\n",
       "    .dataframe thead th {\n",
       "        text-align: right;\n",
       "    }\n",
       "</style>\n",
       "<table border=\"1\" class=\"dataframe\">\n",
       "  <thead>\n",
       "    <tr style=\"text-align: right;\">\n",
       "      <th></th>\n",
       "      <th>CustomerID</th>\n",
       "      <th>TotalTransactions</th>\n",
       "      <th>TotalQuantity</th>\n",
       "      <th>TotalSpent</th>\n",
       "      <th>AvgTransactionValue</th>\n",
       "      <th>UniqueProducts</th>\n",
       "      <th>Recency</th>\n",
       "      <th>Books</th>\n",
       "      <th>Clothing</th>\n",
       "      <th>Electronics</th>\n",
       "      <th>Home Decor</th>\n",
       "    </tr>\n",
       "  </thead>\n",
       "  <tbody>\n",
       "    <tr>\n",
       "      <th>0</th>\n",
       "      <td>C0001</td>\n",
       "      <td>5</td>\n",
       "      <td>12</td>\n",
       "      <td>3354.52</td>\n",
       "      <td>670.904000</td>\n",
       "      <td>5</td>\n",
       "      <td>55</td>\n",
       "      <td>1</td>\n",
       "      <td>0</td>\n",
       "      <td>3</td>\n",
       "      <td>1</td>\n",
       "    </tr>\n",
       "    <tr>\n",
       "      <th>1</th>\n",
       "      <td>C0002</td>\n",
       "      <td>4</td>\n",
       "      <td>10</td>\n",
       "      <td>1862.74</td>\n",
       "      <td>465.685000</td>\n",
       "      <td>4</td>\n",
       "      <td>25</td>\n",
       "      <td>0</td>\n",
       "      <td>2</td>\n",
       "      <td>0</td>\n",
       "      <td>2</td>\n",
       "    </tr>\n",
       "    <tr>\n",
       "      <th>2</th>\n",
       "      <td>C0003</td>\n",
       "      <td>4</td>\n",
       "      <td>14</td>\n",
       "      <td>2725.38</td>\n",
       "      <td>681.345000</td>\n",
       "      <td>4</td>\n",
       "      <td>125</td>\n",
       "      <td>0</td>\n",
       "      <td>1</td>\n",
       "      <td>1</td>\n",
       "      <td>2</td>\n",
       "    </tr>\n",
       "    <tr>\n",
       "      <th>3</th>\n",
       "      <td>C0004</td>\n",
       "      <td>8</td>\n",
       "      <td>23</td>\n",
       "      <td>5354.88</td>\n",
       "      <td>669.360000</td>\n",
       "      <td>8</td>\n",
       "      <td>4</td>\n",
       "      <td>3</td>\n",
       "      <td>0</td>\n",
       "      <td>2</td>\n",
       "      <td>3</td>\n",
       "    </tr>\n",
       "    <tr>\n",
       "      <th>4</th>\n",
       "      <td>C0005</td>\n",
       "      <td>3</td>\n",
       "      <td>7</td>\n",
       "      <td>2034.24</td>\n",
       "      <td>678.080000</td>\n",
       "      <td>3</td>\n",
       "      <td>54</td>\n",
       "      <td>0</td>\n",
       "      <td>0</td>\n",
       "      <td>2</td>\n",
       "      <td>1</td>\n",
       "    </tr>\n",
       "    <tr>\n",
       "      <th>...</th>\n",
       "      <td>...</td>\n",
       "      <td>...</td>\n",
       "      <td>...</td>\n",
       "      <td>...</td>\n",
       "      <td>...</td>\n",
       "      <td>...</td>\n",
       "      <td>...</td>\n",
       "      <td>...</td>\n",
       "      <td>...</td>\n",
       "      <td>...</td>\n",
       "      <td>...</td>\n",
       "    </tr>\n",
       "    <tr>\n",
       "      <th>194</th>\n",
       "      <td>C0196</td>\n",
       "      <td>4</td>\n",
       "      <td>12</td>\n",
       "      <td>4982.88</td>\n",
       "      <td>1245.720000</td>\n",
       "      <td>3</td>\n",
       "      <td>13</td>\n",
       "      <td>1</td>\n",
       "      <td>1</td>\n",
       "      <td>0</td>\n",
       "      <td>2</td>\n",
       "    </tr>\n",
       "    <tr>\n",
       "      <th>195</th>\n",
       "      <td>C0197</td>\n",
       "      <td>3</td>\n",
       "      <td>9</td>\n",
       "      <td>1928.65</td>\n",
       "      <td>642.883333</td>\n",
       "      <td>3</td>\n",
       "      <td>0</td>\n",
       "      <td>0</td>\n",
       "      <td>0</td>\n",
       "      <td>2</td>\n",
       "      <td>1</td>\n",
       "    </tr>\n",
       "    <tr>\n",
       "      <th>196</th>\n",
       "      <td>C0198</td>\n",
       "      <td>2</td>\n",
       "      <td>3</td>\n",
       "      <td>931.83</td>\n",
       "      <td>465.915000</td>\n",
       "      <td>2</td>\n",
       "      <td>84</td>\n",
       "      <td>0</td>\n",
       "      <td>1</td>\n",
       "      <td>1</td>\n",
       "      <td>0</td>\n",
       "    </tr>\n",
       "    <tr>\n",
       "      <th>197</th>\n",
       "      <td>C0199</td>\n",
       "      <td>4</td>\n",
       "      <td>9</td>\n",
       "      <td>1979.28</td>\n",
       "      <td>494.820000</td>\n",
       "      <td>4</td>\n",
       "      <td>63</td>\n",
       "      <td>0</td>\n",
       "      <td>0</td>\n",
       "      <td>2</td>\n",
       "      <td>2</td>\n",
       "    </tr>\n",
       "    <tr>\n",
       "      <th>198</th>\n",
       "      <td>C0200</td>\n",
       "      <td>5</td>\n",
       "      <td>16</td>\n",
       "      <td>4758.60</td>\n",
       "      <td>951.720000</td>\n",
       "      <td>5</td>\n",
       "      <td>17</td>\n",
       "      <td>1</td>\n",
       "      <td>2</td>\n",
       "      <td>1</td>\n",
       "      <td>1</td>\n",
       "    </tr>\n",
       "  </tbody>\n",
       "</table>\n",
       "<p>199 rows × 11 columns</p>\n",
       "</div>"
      ],
      "text/plain": [
       "    CustomerID  TotalTransactions  TotalQuantity  TotalSpent  \\\n",
       "0        C0001                  5             12     3354.52   \n",
       "1        C0002                  4             10     1862.74   \n",
       "2        C0003                  4             14     2725.38   \n",
       "3        C0004                  8             23     5354.88   \n",
       "4        C0005                  3              7     2034.24   \n",
       "..         ...                ...            ...         ...   \n",
       "194      C0196                  4             12     4982.88   \n",
       "195      C0197                  3              9     1928.65   \n",
       "196      C0198                  2              3      931.83   \n",
       "197      C0199                  4              9     1979.28   \n",
       "198      C0200                  5             16     4758.60   \n",
       "\n",
       "     AvgTransactionValue  UniqueProducts  Recency  Books  Clothing  \\\n",
       "0             670.904000               5       55      1         0   \n",
       "1             465.685000               4       25      0         2   \n",
       "2             681.345000               4      125      0         1   \n",
       "3             669.360000               8        4      3         0   \n",
       "4             678.080000               3       54      0         0   \n",
       "..                   ...             ...      ...    ...       ...   \n",
       "194          1245.720000               3       13      1         1   \n",
       "195           642.883333               3        0      0         0   \n",
       "196           465.915000               2       84      0         1   \n",
       "197           494.820000               4       63      0         0   \n",
       "198           951.720000               5       17      1         2   \n",
       "\n",
       "     Electronics  Home Decor  \n",
       "0              3           1  \n",
       "1              0           2  \n",
       "2              1           2  \n",
       "3              2           3  \n",
       "4              2           1  \n",
       "..           ...         ...  \n",
       "194            0           2  \n",
       "195            2           1  \n",
       "196            1           0  \n",
       "197            2           2  \n",
       "198            1           1  \n",
       "\n",
       "[199 rows x 11 columns]"
      ]
     },
     "execution_count": 54,
     "metadata": {},
     "output_type": "execute_result"
    }
   ],
   "source": [
    "transaction_agg"
   ]
  },
  {
   "cell_type": "code",
   "execution_count": 55,
   "id": "466ce99c-497d-42d1-81b7-9eeea7eef31f",
   "metadata": {},
   "outputs": [
    {
     "data": {
      "text/html": [
       "<div>\n",
       "<style scoped>\n",
       "    .dataframe tbody tr th:only-of-type {\n",
       "        vertical-align: middle;\n",
       "    }\n",
       "\n",
       "    .dataframe tbody tr th {\n",
       "        vertical-align: top;\n",
       "    }\n",
       "\n",
       "    .dataframe thead th {\n",
       "        text-align: right;\n",
       "    }\n",
       "</style>\n",
       "<table border=\"1\" class=\"dataframe\">\n",
       "  <thead>\n",
       "    <tr style=\"text-align: right;\">\n",
       "      <th></th>\n",
       "      <th>CustomerID</th>\n",
       "      <th>CustomerName</th>\n",
       "      <th>Region</th>\n",
       "      <th>SignupDate</th>\n",
       "      <th>Tenure</th>\n",
       "      <th>TotalTransactions</th>\n",
       "      <th>TotalQuantity</th>\n",
       "      <th>TotalSpent</th>\n",
       "      <th>AvgTransactionValue</th>\n",
       "      <th>UniqueProducts</th>\n",
       "      <th>Recency</th>\n",
       "      <th>Books</th>\n",
       "      <th>Clothing</th>\n",
       "      <th>Electronics</th>\n",
       "      <th>Home Decor</th>\n",
       "    </tr>\n",
       "  </thead>\n",
       "  <tbody>\n",
       "    <tr>\n",
       "      <th>0</th>\n",
       "      <td>C0001</td>\n",
       "      <td>Lawrence Carroll</td>\n",
       "      <td>South America</td>\n",
       "      <td>2022-07-10</td>\n",
       "      <td>902</td>\n",
       "      <td>5.0</td>\n",
       "      <td>12.0</td>\n",
       "      <td>3354.52</td>\n",
       "      <td>670.904000</td>\n",
       "      <td>5.0</td>\n",
       "      <td>55.0</td>\n",
       "      <td>1.0</td>\n",
       "      <td>0.0</td>\n",
       "      <td>3.0</td>\n",
       "      <td>1.0</td>\n",
       "    </tr>\n",
       "    <tr>\n",
       "      <th>1</th>\n",
       "      <td>C0002</td>\n",
       "      <td>Elizabeth Lutz</td>\n",
       "      <td>Asia</td>\n",
       "      <td>2022-02-13</td>\n",
       "      <td>1049</td>\n",
       "      <td>4.0</td>\n",
       "      <td>10.0</td>\n",
       "      <td>1862.74</td>\n",
       "      <td>465.685000</td>\n",
       "      <td>4.0</td>\n",
       "      <td>25.0</td>\n",
       "      <td>0.0</td>\n",
       "      <td>2.0</td>\n",
       "      <td>0.0</td>\n",
       "      <td>2.0</td>\n",
       "    </tr>\n",
       "    <tr>\n",
       "      <th>2</th>\n",
       "      <td>C0003</td>\n",
       "      <td>Michael Rivera</td>\n",
       "      <td>South America</td>\n",
       "      <td>2024-03-07</td>\n",
       "      <td>296</td>\n",
       "      <td>4.0</td>\n",
       "      <td>14.0</td>\n",
       "      <td>2725.38</td>\n",
       "      <td>681.345000</td>\n",
       "      <td>4.0</td>\n",
       "      <td>125.0</td>\n",
       "      <td>0.0</td>\n",
       "      <td>1.0</td>\n",
       "      <td>1.0</td>\n",
       "      <td>2.0</td>\n",
       "    </tr>\n",
       "    <tr>\n",
       "      <th>3</th>\n",
       "      <td>C0004</td>\n",
       "      <td>Kathleen Rodriguez</td>\n",
       "      <td>South America</td>\n",
       "      <td>2022-10-09</td>\n",
       "      <td>811</td>\n",
       "      <td>8.0</td>\n",
       "      <td>23.0</td>\n",
       "      <td>5354.88</td>\n",
       "      <td>669.360000</td>\n",
       "      <td>8.0</td>\n",
       "      <td>4.0</td>\n",
       "      <td>3.0</td>\n",
       "      <td>0.0</td>\n",
       "      <td>2.0</td>\n",
       "      <td>3.0</td>\n",
       "    </tr>\n",
       "    <tr>\n",
       "      <th>4</th>\n",
       "      <td>C0005</td>\n",
       "      <td>Laura Weber</td>\n",
       "      <td>Asia</td>\n",
       "      <td>2022-08-15</td>\n",
       "      <td>866</td>\n",
       "      <td>3.0</td>\n",
       "      <td>7.0</td>\n",
       "      <td>2034.24</td>\n",
       "      <td>678.080000</td>\n",
       "      <td>3.0</td>\n",
       "      <td>54.0</td>\n",
       "      <td>0.0</td>\n",
       "      <td>0.0</td>\n",
       "      <td>2.0</td>\n",
       "      <td>1.0</td>\n",
       "    </tr>\n",
       "    <tr>\n",
       "      <th>...</th>\n",
       "      <td>...</td>\n",
       "      <td>...</td>\n",
       "      <td>...</td>\n",
       "      <td>...</td>\n",
       "      <td>...</td>\n",
       "      <td>...</td>\n",
       "      <td>...</td>\n",
       "      <td>...</td>\n",
       "      <td>...</td>\n",
       "      <td>...</td>\n",
       "      <td>...</td>\n",
       "      <td>...</td>\n",
       "      <td>...</td>\n",
       "      <td>...</td>\n",
       "      <td>...</td>\n",
       "    </tr>\n",
       "    <tr>\n",
       "      <th>195</th>\n",
       "      <td>C0196</td>\n",
       "      <td>Laura Watts</td>\n",
       "      <td>Europe</td>\n",
       "      <td>2022-06-07</td>\n",
       "      <td>935</td>\n",
       "      <td>4.0</td>\n",
       "      <td>12.0</td>\n",
       "      <td>4982.88</td>\n",
       "      <td>1245.720000</td>\n",
       "      <td>3.0</td>\n",
       "      <td>13.0</td>\n",
       "      <td>1.0</td>\n",
       "      <td>1.0</td>\n",
       "      <td>0.0</td>\n",
       "      <td>2.0</td>\n",
       "    </tr>\n",
       "    <tr>\n",
       "      <th>196</th>\n",
       "      <td>C0197</td>\n",
       "      <td>Christina Harvey</td>\n",
       "      <td>Europe</td>\n",
       "      <td>2023-03-21</td>\n",
       "      <td>648</td>\n",
       "      <td>3.0</td>\n",
       "      <td>9.0</td>\n",
       "      <td>1928.65</td>\n",
       "      <td>642.883333</td>\n",
       "      <td>3.0</td>\n",
       "      <td>0.0</td>\n",
       "      <td>0.0</td>\n",
       "      <td>0.0</td>\n",
       "      <td>2.0</td>\n",
       "      <td>1.0</td>\n",
       "    </tr>\n",
       "    <tr>\n",
       "      <th>197</th>\n",
       "      <td>C0198</td>\n",
       "      <td>Rebecca Ray</td>\n",
       "      <td>Europe</td>\n",
       "      <td>2022-02-27</td>\n",
       "      <td>1035</td>\n",
       "      <td>2.0</td>\n",
       "      <td>3.0</td>\n",
       "      <td>931.83</td>\n",
       "      <td>465.915000</td>\n",
       "      <td>2.0</td>\n",
       "      <td>84.0</td>\n",
       "      <td>0.0</td>\n",
       "      <td>1.0</td>\n",
       "      <td>1.0</td>\n",
       "      <td>0.0</td>\n",
       "    </tr>\n",
       "    <tr>\n",
       "      <th>198</th>\n",
       "      <td>C0199</td>\n",
       "      <td>Andrea Jenkins</td>\n",
       "      <td>Europe</td>\n",
       "      <td>2022-12-03</td>\n",
       "      <td>756</td>\n",
       "      <td>4.0</td>\n",
       "      <td>9.0</td>\n",
       "      <td>1979.28</td>\n",
       "      <td>494.820000</td>\n",
       "      <td>4.0</td>\n",
       "      <td>63.0</td>\n",
       "      <td>0.0</td>\n",
       "      <td>0.0</td>\n",
       "      <td>2.0</td>\n",
       "      <td>2.0</td>\n",
       "    </tr>\n",
       "    <tr>\n",
       "      <th>199</th>\n",
       "      <td>C0200</td>\n",
       "      <td>Kelly Cross</td>\n",
       "      <td>Asia</td>\n",
       "      <td>2023-06-11</td>\n",
       "      <td>566</td>\n",
       "      <td>5.0</td>\n",
       "      <td>16.0</td>\n",
       "      <td>4758.60</td>\n",
       "      <td>951.720000</td>\n",
       "      <td>5.0</td>\n",
       "      <td>17.0</td>\n",
       "      <td>1.0</td>\n",
       "      <td>2.0</td>\n",
       "      <td>1.0</td>\n",
       "      <td>1.0</td>\n",
       "    </tr>\n",
       "  </tbody>\n",
       "</table>\n",
       "<p>200 rows × 15 columns</p>\n",
       "</div>"
      ],
      "text/plain": [
       "    CustomerID        CustomerName         Region SignupDate  Tenure  \\\n",
       "0        C0001    Lawrence Carroll  South America 2022-07-10     902   \n",
       "1        C0002      Elizabeth Lutz           Asia 2022-02-13    1049   \n",
       "2        C0003      Michael Rivera  South America 2024-03-07     296   \n",
       "3        C0004  Kathleen Rodriguez  South America 2022-10-09     811   \n",
       "4        C0005         Laura Weber           Asia 2022-08-15     866   \n",
       "..         ...                 ...            ...        ...     ...   \n",
       "195      C0196         Laura Watts         Europe 2022-06-07     935   \n",
       "196      C0197    Christina Harvey         Europe 2023-03-21     648   \n",
       "197      C0198         Rebecca Ray         Europe 2022-02-27    1035   \n",
       "198      C0199      Andrea Jenkins         Europe 2022-12-03     756   \n",
       "199      C0200         Kelly Cross           Asia 2023-06-11     566   \n",
       "\n",
       "     TotalTransactions  TotalQuantity  TotalSpent  AvgTransactionValue  \\\n",
       "0                  5.0           12.0     3354.52           670.904000   \n",
       "1                  4.0           10.0     1862.74           465.685000   \n",
       "2                  4.0           14.0     2725.38           681.345000   \n",
       "3                  8.0           23.0     5354.88           669.360000   \n",
       "4                  3.0            7.0     2034.24           678.080000   \n",
       "..                 ...            ...         ...                  ...   \n",
       "195                4.0           12.0     4982.88          1245.720000   \n",
       "196                3.0            9.0     1928.65           642.883333   \n",
       "197                2.0            3.0      931.83           465.915000   \n",
       "198                4.0            9.0     1979.28           494.820000   \n",
       "199                5.0           16.0     4758.60           951.720000   \n",
       "\n",
       "     UniqueProducts  Recency  Books  Clothing  Electronics  Home Decor  \n",
       "0               5.0     55.0    1.0       0.0          3.0         1.0  \n",
       "1               4.0     25.0    0.0       2.0          0.0         2.0  \n",
       "2               4.0    125.0    0.0       1.0          1.0         2.0  \n",
       "3               8.0      4.0    3.0       0.0          2.0         3.0  \n",
       "4               3.0     54.0    0.0       0.0          2.0         1.0  \n",
       "..              ...      ...    ...       ...          ...         ...  \n",
       "195             3.0     13.0    1.0       1.0          0.0         2.0  \n",
       "196             3.0      0.0    0.0       0.0          2.0         1.0  \n",
       "197             2.0     84.0    0.0       1.0          1.0         0.0  \n",
       "198             4.0     63.0    0.0       0.0          2.0         2.0  \n",
       "199             5.0     17.0    1.0       2.0          1.0         1.0  \n",
       "\n",
       "[200 rows x 15 columns]"
      ]
     },
     "execution_count": 55,
     "metadata": {},
     "output_type": "execute_result"
    }
   ],
   "source": [
    "customers_processed = customers.merge(transaction_agg, on='CustomerID', how='left')\n",
    "customers_processed"
   ]
  },
  {
   "cell_type": "code",
   "execution_count": 57,
   "id": "2e1079ba-bbf2-4b49-b93b-686795f81b85",
   "metadata": {},
   "outputs": [],
   "source": [
    "customers_processed.fillna(0, inplace=True)\n",
    "customers_processed.drop(['CustomerName', 'SignupDate'], axis=1, inplace=True)"
   ]
  },
  {
   "cell_type": "code",
   "execution_count": 58,
   "id": "f532657b-af8e-44c1-863c-8aeef8f323fc",
   "metadata": {},
   "outputs": [
    {
     "data": {
      "text/html": [
       "<div>\n",
       "<style scoped>\n",
       "    .dataframe tbody tr th:only-of-type {\n",
       "        vertical-align: middle;\n",
       "    }\n",
       "\n",
       "    .dataframe tbody tr th {\n",
       "        vertical-align: top;\n",
       "    }\n",
       "\n",
       "    .dataframe thead th {\n",
       "        text-align: right;\n",
       "    }\n",
       "</style>\n",
       "<table border=\"1\" class=\"dataframe\">\n",
       "  <thead>\n",
       "    <tr style=\"text-align: right;\">\n",
       "      <th></th>\n",
       "      <th>CustomerID</th>\n",
       "      <th>Region</th>\n",
       "      <th>Tenure</th>\n",
       "      <th>TotalTransactions</th>\n",
       "      <th>TotalQuantity</th>\n",
       "      <th>TotalSpent</th>\n",
       "      <th>AvgTransactionValue</th>\n",
       "      <th>UniqueProducts</th>\n",
       "      <th>Recency</th>\n",
       "      <th>Books</th>\n",
       "      <th>Clothing</th>\n",
       "      <th>Electronics</th>\n",
       "      <th>Home Decor</th>\n",
       "    </tr>\n",
       "  </thead>\n",
       "  <tbody>\n",
       "    <tr>\n",
       "      <th>0</th>\n",
       "      <td>C0001</td>\n",
       "      <td>South America</td>\n",
       "      <td>902</td>\n",
       "      <td>5.0</td>\n",
       "      <td>12.0</td>\n",
       "      <td>3354.52</td>\n",
       "      <td>670.904000</td>\n",
       "      <td>5.0</td>\n",
       "      <td>55.0</td>\n",
       "      <td>1.0</td>\n",
       "      <td>0.0</td>\n",
       "      <td>3.0</td>\n",
       "      <td>1.0</td>\n",
       "    </tr>\n",
       "    <tr>\n",
       "      <th>1</th>\n",
       "      <td>C0002</td>\n",
       "      <td>Asia</td>\n",
       "      <td>1049</td>\n",
       "      <td>4.0</td>\n",
       "      <td>10.0</td>\n",
       "      <td>1862.74</td>\n",
       "      <td>465.685000</td>\n",
       "      <td>4.0</td>\n",
       "      <td>25.0</td>\n",
       "      <td>0.0</td>\n",
       "      <td>2.0</td>\n",
       "      <td>0.0</td>\n",
       "      <td>2.0</td>\n",
       "    </tr>\n",
       "    <tr>\n",
       "      <th>2</th>\n",
       "      <td>C0003</td>\n",
       "      <td>South America</td>\n",
       "      <td>296</td>\n",
       "      <td>4.0</td>\n",
       "      <td>14.0</td>\n",
       "      <td>2725.38</td>\n",
       "      <td>681.345000</td>\n",
       "      <td>4.0</td>\n",
       "      <td>125.0</td>\n",
       "      <td>0.0</td>\n",
       "      <td>1.0</td>\n",
       "      <td>1.0</td>\n",
       "      <td>2.0</td>\n",
       "    </tr>\n",
       "    <tr>\n",
       "      <th>3</th>\n",
       "      <td>C0004</td>\n",
       "      <td>South America</td>\n",
       "      <td>811</td>\n",
       "      <td>8.0</td>\n",
       "      <td>23.0</td>\n",
       "      <td>5354.88</td>\n",
       "      <td>669.360000</td>\n",
       "      <td>8.0</td>\n",
       "      <td>4.0</td>\n",
       "      <td>3.0</td>\n",
       "      <td>0.0</td>\n",
       "      <td>2.0</td>\n",
       "      <td>3.0</td>\n",
       "    </tr>\n",
       "    <tr>\n",
       "      <th>4</th>\n",
       "      <td>C0005</td>\n",
       "      <td>Asia</td>\n",
       "      <td>866</td>\n",
       "      <td>3.0</td>\n",
       "      <td>7.0</td>\n",
       "      <td>2034.24</td>\n",
       "      <td>678.080000</td>\n",
       "      <td>3.0</td>\n",
       "      <td>54.0</td>\n",
       "      <td>0.0</td>\n",
       "      <td>0.0</td>\n",
       "      <td>2.0</td>\n",
       "      <td>1.0</td>\n",
       "    </tr>\n",
       "    <tr>\n",
       "      <th>...</th>\n",
       "      <td>...</td>\n",
       "      <td>...</td>\n",
       "      <td>...</td>\n",
       "      <td>...</td>\n",
       "      <td>...</td>\n",
       "      <td>...</td>\n",
       "      <td>...</td>\n",
       "      <td>...</td>\n",
       "      <td>...</td>\n",
       "      <td>...</td>\n",
       "      <td>...</td>\n",
       "      <td>...</td>\n",
       "      <td>...</td>\n",
       "    </tr>\n",
       "    <tr>\n",
       "      <th>195</th>\n",
       "      <td>C0196</td>\n",
       "      <td>Europe</td>\n",
       "      <td>935</td>\n",
       "      <td>4.0</td>\n",
       "      <td>12.0</td>\n",
       "      <td>4982.88</td>\n",
       "      <td>1245.720000</td>\n",
       "      <td>3.0</td>\n",
       "      <td>13.0</td>\n",
       "      <td>1.0</td>\n",
       "      <td>1.0</td>\n",
       "      <td>0.0</td>\n",
       "      <td>2.0</td>\n",
       "    </tr>\n",
       "    <tr>\n",
       "      <th>196</th>\n",
       "      <td>C0197</td>\n",
       "      <td>Europe</td>\n",
       "      <td>648</td>\n",
       "      <td>3.0</td>\n",
       "      <td>9.0</td>\n",
       "      <td>1928.65</td>\n",
       "      <td>642.883333</td>\n",
       "      <td>3.0</td>\n",
       "      <td>0.0</td>\n",
       "      <td>0.0</td>\n",
       "      <td>0.0</td>\n",
       "      <td>2.0</td>\n",
       "      <td>1.0</td>\n",
       "    </tr>\n",
       "    <tr>\n",
       "      <th>197</th>\n",
       "      <td>C0198</td>\n",
       "      <td>Europe</td>\n",
       "      <td>1035</td>\n",
       "      <td>2.0</td>\n",
       "      <td>3.0</td>\n",
       "      <td>931.83</td>\n",
       "      <td>465.915000</td>\n",
       "      <td>2.0</td>\n",
       "      <td>84.0</td>\n",
       "      <td>0.0</td>\n",
       "      <td>1.0</td>\n",
       "      <td>1.0</td>\n",
       "      <td>0.0</td>\n",
       "    </tr>\n",
       "    <tr>\n",
       "      <th>198</th>\n",
       "      <td>C0199</td>\n",
       "      <td>Europe</td>\n",
       "      <td>756</td>\n",
       "      <td>4.0</td>\n",
       "      <td>9.0</td>\n",
       "      <td>1979.28</td>\n",
       "      <td>494.820000</td>\n",
       "      <td>4.0</td>\n",
       "      <td>63.0</td>\n",
       "      <td>0.0</td>\n",
       "      <td>0.0</td>\n",
       "      <td>2.0</td>\n",
       "      <td>2.0</td>\n",
       "    </tr>\n",
       "    <tr>\n",
       "      <th>199</th>\n",
       "      <td>C0200</td>\n",
       "      <td>Asia</td>\n",
       "      <td>566</td>\n",
       "      <td>5.0</td>\n",
       "      <td>16.0</td>\n",
       "      <td>4758.60</td>\n",
       "      <td>951.720000</td>\n",
       "      <td>5.0</td>\n",
       "      <td>17.0</td>\n",
       "      <td>1.0</td>\n",
       "      <td>2.0</td>\n",
       "      <td>1.0</td>\n",
       "      <td>1.0</td>\n",
       "    </tr>\n",
       "  </tbody>\n",
       "</table>\n",
       "<p>200 rows × 13 columns</p>\n",
       "</div>"
      ],
      "text/plain": [
       "    CustomerID         Region  Tenure  TotalTransactions  TotalQuantity  \\\n",
       "0        C0001  South America     902                5.0           12.0   \n",
       "1        C0002           Asia    1049                4.0           10.0   \n",
       "2        C0003  South America     296                4.0           14.0   \n",
       "3        C0004  South America     811                8.0           23.0   \n",
       "4        C0005           Asia     866                3.0            7.0   \n",
       "..         ...            ...     ...                ...            ...   \n",
       "195      C0196         Europe     935                4.0           12.0   \n",
       "196      C0197         Europe     648                3.0            9.0   \n",
       "197      C0198         Europe    1035                2.0            3.0   \n",
       "198      C0199         Europe     756                4.0            9.0   \n",
       "199      C0200           Asia     566                5.0           16.0   \n",
       "\n",
       "     TotalSpent  AvgTransactionValue  UniqueProducts  Recency  Books  \\\n",
       "0       3354.52           670.904000             5.0     55.0    1.0   \n",
       "1       1862.74           465.685000             4.0     25.0    0.0   \n",
       "2       2725.38           681.345000             4.0    125.0    0.0   \n",
       "3       5354.88           669.360000             8.0      4.0    3.0   \n",
       "4       2034.24           678.080000             3.0     54.0    0.0   \n",
       "..          ...                  ...             ...      ...    ...   \n",
       "195     4982.88          1245.720000             3.0     13.0    1.0   \n",
       "196     1928.65           642.883333             3.0      0.0    0.0   \n",
       "197      931.83           465.915000             2.0     84.0    0.0   \n",
       "198     1979.28           494.820000             4.0     63.0    0.0   \n",
       "199     4758.60           951.720000             5.0     17.0    1.0   \n",
       "\n",
       "     Clothing  Electronics  Home Decor  \n",
       "0         0.0          3.0         1.0  \n",
       "1         2.0          0.0         2.0  \n",
       "2         1.0          1.0         2.0  \n",
       "3         0.0          2.0         3.0  \n",
       "4         0.0          2.0         1.0  \n",
       "..        ...          ...         ...  \n",
       "195       1.0          0.0         2.0  \n",
       "196       0.0          2.0         1.0  \n",
       "197       1.0          1.0         0.0  \n",
       "198       0.0          2.0         2.0  \n",
       "199       2.0          1.0         1.0  \n",
       "\n",
       "[200 rows x 13 columns]"
      ]
     },
     "execution_count": 58,
     "metadata": {},
     "output_type": "execute_result"
    }
   ],
   "source": [
    "customers_processed"
   ]
  },
  {
   "cell_type": "code",
   "execution_count": 63,
   "id": "663ceb9b-568c-4539-b569-e2b5fc3c80b4",
   "metadata": {},
   "outputs": [],
   "source": [
    "customers_processed = pd.get_dummies(customers_processed, columns=['Region'])"
   ]
  },
  {
   "cell_type": "code",
   "execution_count": 64,
   "id": "7a7d4bf6-a38c-4629-bf92-cda56795ed2c",
   "metadata": {},
   "outputs": [],
   "source": [
    "scaler = StandardScaler()\n",
    "scaled_features = scaler.fit_transform(customers_processed.drop('CustomerID', axis=1))"
   ]
  },
  {
   "cell_type": "code",
   "execution_count": 65,
   "id": "ced15e27-ca7f-4cd5-b678-d4f2866d5ed7",
   "metadata": {},
   "outputs": [
    {
     "data": {
      "text/plain": [
       "array([[ 1.15288412,  0.        , -0.1107351 , ..., -0.57735027,\n",
       "        -0.54653573,  1.54590766],\n",
       "       [ 1.60559336, -0.45129368, -0.43404927, ..., -0.57735027,\n",
       "        -0.54653573, -0.64686916],\n",
       "       [-0.7133866 , -0.45129368,  0.21257907, ..., -0.57735027,\n",
       "        -0.54653573,  1.54590766],\n",
       "       ...,\n",
       "       [ 1.56247819, -1.35388105, -1.56564887, ...,  1.73205081,\n",
       "        -0.54653573, -0.64686916],\n",
       "       [ 0.70325454, -0.45129368, -0.59570636, ...,  1.73205081,\n",
       "        -0.54653573, -0.64686916],\n",
       "       [ 0.11812015,  0.        ,  0.53589324, ..., -0.57735027,\n",
       "        -0.54653573, -0.64686916]])"
      ]
     },
     "execution_count": 65,
     "metadata": {},
     "output_type": "execute_result"
    }
   ],
   "source": [
    "scaled_features"
   ]
  },
  {
   "cell_type": "markdown",
   "id": "beec21d3-139e-4d44-a43f-91920a9b3a16",
   "metadata": {},
   "source": [
    "# 1. KMeans Clustering"
   ]
  },
  {
   "cell_type": "code",
   "execution_count": 220,
   "id": "4d723af2-2ff5-4a94-b1cc-64c026c16c8c",
   "metadata": {},
   "outputs": [
    {
     "name": "stderr",
     "output_type": "stream",
     "text": [
      "C:\\Users\\iamaj\\anaconda3\\Lib\\site-packages\\sklearn\\cluster\\_kmeans.py:1429: UserWarning:\n",
      "\n",
      "KMeans is known to have a memory leak on Windows with MKL, when there are less chunks than available threads. You can avoid it by setting the environment variable OMP_NUM_THREADS=1.\n",
      "\n",
      "C:\\Users\\iamaj\\anaconda3\\Lib\\site-packages\\sklearn\\cluster\\_kmeans.py:1429: UserWarning:\n",
      "\n",
      "KMeans is known to have a memory leak on Windows with MKL, when there are less chunks than available threads. You can avoid it by setting the environment variable OMP_NUM_THREADS=1.\n",
      "\n",
      "C:\\Users\\iamaj\\anaconda3\\Lib\\site-packages\\sklearn\\cluster\\_kmeans.py:1429: UserWarning:\n",
      "\n",
      "KMeans is known to have a memory leak on Windows with MKL, when there are less chunks than available threads. You can avoid it by setting the environment variable OMP_NUM_THREADS=1.\n",
      "\n",
      "C:\\Users\\iamaj\\anaconda3\\Lib\\site-packages\\sklearn\\cluster\\_kmeans.py:1429: UserWarning:\n",
      "\n",
      "KMeans is known to have a memory leak on Windows with MKL, when there are less chunks than available threads. You can avoid it by setting the environment variable OMP_NUM_THREADS=1.\n",
      "\n",
      "C:\\Users\\iamaj\\anaconda3\\Lib\\site-packages\\sklearn\\cluster\\_kmeans.py:1429: UserWarning:\n",
      "\n",
      "KMeans is known to have a memory leak on Windows with MKL, when there are less chunks than available threads. You can avoid it by setting the environment variable OMP_NUM_THREADS=1.\n",
      "\n",
      "C:\\Users\\iamaj\\anaconda3\\Lib\\site-packages\\sklearn\\cluster\\_kmeans.py:1429: UserWarning:\n",
      "\n",
      "KMeans is known to have a memory leak on Windows with MKL, when there are less chunks than available threads. You can avoid it by setting the environment variable OMP_NUM_THREADS=1.\n",
      "\n",
      "C:\\Users\\iamaj\\anaconda3\\Lib\\site-packages\\sklearn\\cluster\\_kmeans.py:1429: UserWarning:\n",
      "\n",
      "KMeans is known to have a memory leak on Windows with MKL, when there are less chunks than available threads. You can avoid it by setting the environment variable OMP_NUM_THREADS=1.\n",
      "\n",
      "C:\\Users\\iamaj\\anaconda3\\Lib\\site-packages\\sklearn\\cluster\\_kmeans.py:1429: UserWarning:\n",
      "\n",
      "KMeans is known to have a memory leak on Windows with MKL, when there are less chunks than available threads. You can avoid it by setting the environment variable OMP_NUM_THREADS=1.\n",
      "\n",
      "C:\\Users\\iamaj\\anaconda3\\Lib\\site-packages\\sklearn\\cluster\\_kmeans.py:1429: UserWarning:\n",
      "\n",
      "KMeans is known to have a memory leak on Windows with MKL, when there are less chunks than available threads. You can avoid it by setting the environment variable OMP_NUM_THREADS=1.\n",
      "\n"
     ]
    }
   ],
   "source": [
    "db_scores_kmeans = []\n",
    "silhouette_kmeans = []\n",
    "for k in range(2, 11):\n",
    "    kmeans = KMeans(n_clusters=k, random_state=42)\n",
    "    clusters_kmeans = kmeans.fit_predict(scaled_features)\n",
    "    db_scores_kmeans.append(davies_bouldin_score(scaled_features, clusters_kmeans))\n",
    "    silhouette_kmeans.append(silhouette_score(scaled_features, clusters_kmeans))\n",
    "best_k = np.argmin(db_scores_kmeans) + 2  "
   ]
  },
  {
   "cell_type": "code",
   "execution_count": 224,
   "id": "1c578ac5-a78b-4b5a-8fbf-cd1def2b7dda",
   "metadata": {},
   "outputs": [
    {
     "name": "stdout",
     "output_type": "stream",
     "text": [
      "[1.9075810744636252, 2.1612945377785735, 2.0228098564292085, 1.8439113239168716, 1.8186331232977047, 1.8630569490896753, 1.6543116599960568, 1.6308250998512885, 1.662309476842518]\n",
      "[0.17354764532576916, 0.1204413060721612, 0.13666917944746212, 0.1574020857114675, 0.13889871740932339, 0.11614518812247715, 0.17740461699164334, 0.17708980227363127, 0.17259540449924024]\n"
     ]
    }
   ],
   "source": [
    "print(db_scores_kmeans)\n",
    "print(silhouette_kmeans)"
   ]
  },
  {
   "cell_type": "code",
   "execution_count": 198,
   "id": "a92ef224-be7d-4fa7-b3f7-f5a2640b97f0",
   "metadata": {},
   "outputs": [
    {
     "data": {
      "text/plain": [
       "9"
      ]
     },
     "execution_count": 198,
     "metadata": {},
     "output_type": "execute_result"
    }
   ],
   "source": [
    "best_k"
   ]
  },
  {
   "cell_type": "code",
   "execution_count": 199,
   "id": "a98f801d-1869-42a4-a3b5-f5d0a125d631",
   "metadata": {},
   "outputs": [
    {
     "name": "stderr",
     "output_type": "stream",
     "text": [
      "C:\\Users\\iamaj\\anaconda3\\Lib\\site-packages\\sklearn\\cluster\\_kmeans.py:1429: UserWarning:\n",
      "\n",
      "KMeans is known to have a memory leak on Windows with MKL, when there are less chunks than available threads. You can avoid it by setting the environment variable OMP_NUM_THREADS=1.\n",
      "\n"
     ]
    }
   ],
   "source": [
    "kmeans = KMeans(n_clusters=best_k, random_state=42)\n",
    "clusters = kmeans.fit_predict(scaled_features)"
   ]
  },
  {
   "cell_type": "code",
   "execution_count": 200,
   "id": "3086022e-baff-4652-aa69-d9864410cc4b",
   "metadata": {},
   "outputs": [
    {
     "data": {
      "image/png": "[encoded data removed]",
      "text/plain": [
       "<Figure size 1000x600 with 2 Axes>"
      ]
     },
     "metadata": {},
     "output_type": "display_data"
    }
   ],
   "source": [
    "pca = PCA(n_components=2)\n",
    "principal_components = pca.fit_transform(scaled_features)\n",
    "plt.figure(figsize=(10, 6))\n",
    "plt.scatter(principal_components[:, 0], principal_components[:, 1], c=clusters, cmap='viridis', alpha=0.6)\n",
    "plt.title('Customer Clusters Visualized with PCA')\n",
    "plt.xlabel('Principal Component 1')\n",
    "plt.ylabel('Principal Component 2')\n",
    "plt.colorbar(label='Cluster')\n",
    "plt.show()"
   ]
  },
  {
   "cell_type": "code",
   "execution_count": 201,
   "id": "0099ef38-52ef-43c7-93a9-13e56be7cd7a",
   "metadata": {},
   "outputs": [
    {
     "data": {
      "application/vnd.plotly.v1+json": {
       "config": {
        "plotlyServerURL": "https://plot.ly"
       },
       "data": [
        {
         "hovertemplate": "x=%{x}<br>y=%{y}<br>color=%{marker.color}<extra></extra>",
         "legendgroup": "",
         "marker": {
          "color": [
           1,
           8,
           1,
           5,
           8,
           3,
           8,
           5,
           6,
           6,
           3,
           5,
           0,
           2,
           2,
           7,
           4,
           7,
           4,
           2,
           0,
           8,
           4,
           7,
           1,
           7,
           8,
           0,
           7,
           7,
           1,
           1,
           2,
           7,
           7,
           7,
           4,
           5,
           1,
           8,
           4,
           7,
           8,
           6,
           0,
           7,
           5,
           1,
           7,
           7,
           4,
           1,
           4,
           0,
           7,
           8,
           4,
           2,
           5,
           6,
           6,
           6,
           6,
           4,
           5,
           4,
           7,
           0,
           4,
           6,
           1,
           7,
           6,
           6,
           0,
           1,
           1,
           8,
           7,
           2,
           4,
           3,
           1,
           0,
           1,
           4,
           3,
           8,
           6,
           0,
           1,
           8,
           0,
           7,
           1,
           3,
           2,
           7,
           0,
           4,
           0,
           0,
           6,
           5,
           4,
           8,
           1,
           3,
           0,
           2,
           4,
           1,
           5,
           4,
           8,
           7,
           7,
           3,
           6,
           1,
           6,
           5,
           8,
           4,
           7,
           3,
           4,
           2,
           1,
           2,
           7,
           6,
           1,
           8,
           6,
           5,
           3,
           8,
           5,
           8,
           0,
           8,
           0,
           2,
           0,
           8,
           5,
           3,
           4,
           2,
           1,
           1,
           3,
           7,
           3,
           0,
           7,
           1,
           8,
           5,
           0,
           0,
           5,
           4,
           0,
           6,
           6,
           3,
           3,
           4,
           3,
           4,
           0,
           3,
           0,
           7,
           8,
           8,
           4,
           2,
           1,
           4,
           7,
           1,
           7,
           8,
           3,
           0,
           7,
           1,
           3,
           1,
           8,
           7,
           1,
           4,
           6,
           6,
           6,
           8
          ],
          "coloraxis": "coloraxis",
          "opacity": 0.6,
          "symbol": "circle"
         },
         "mode": "markers",
         "name": "",
         "orientation": "v",
         "showlegend": false,
         "type": "scatter",
         "x": [
          0.1876224461361959,
          -1.1706847803250975,
          -0.8208850442476103,
          3.276436952374213,
          -1.8611259949730592,
          -0.22945018136946643,
          -1.8012011621895387,
          3.703833521205483,
          -2.6827955524991483,
          -1.0677460845397342,
          0.5919006991213875,
          2.019107013800793,
          2.462640761842436,
          -5.0106529231524135,
          -3.0139243763832164,
          0.152963399563655,
          2.712103396088535,
          0.632340196532155,
          0.24436529404036209,
          -4.280162927918563,
          2.614393495221403,
          0.9462070688942587,
          1.3658768012944122,
          1.2175060272036042,
          -1.5734685693432162,
          -0.5311541491620388,
          -0.7938385336135735,
          3.2301943915164295,
          -0.871964504761275,
          -0.04644847195221014,
          -1.0609932313248855,
          -2.2780968076770587,
          -4.416486736157731,
          0.8856164293431543,
          -1.004144142909307,
          -1.8451964573775514,
          0.1312764581586182,
          -0.019206353929693866,
          1.2331844034519186,
          -1.419874486106106,
          2.701815564986681,
          -1.6601591002309426,
          -2.433183084723085,
          -1.521121601148501,
          2.510770372445337,
          2.106306756733166,
          0.7991208382610103,
          0.3239248342968706,
          1.6610760504133921,
          -1.2474563043908038,
          2.0731102893781777,
          -1.404712253810441,
          1.4368035045979426,
          3.6403849237110726,
          -0.23930565524439845,
          0.08745595063623074,
          1.2335881285264894,
          -4.76479719458786,
          3.19311387256066,
          -4.379247295803355,
          -1.8068918243529273,
          -2.603189291100658,
          -2.8926880936880845,
          0.3363312369302397,
          4.966224079338939,
          -1.3595880358829497,
          0.9286604563659647,
          3.532926995666257,
          -0.25236388663023596,
          -0.6127215026514067,
          -2.140457961857179,
          0.036127171970886184,
          -2.37573701196702,
          -1.6901225558259168,
          4.14329557575583,
          -0.3513767111604501,
          -2.155737038965678,
          -3.4433369023955893,
          -0.49455488277398163,
          -4.252890975627929,
          0.6175840454671344,
          3.381883263142917,
          -2.2371141577241693,
          3.139555787099447,
          -1.6477616900029797,
          -0.0751575318407928,
          2.823341037784438,
          -0.3517877595969004,
          -2.20720056142842,
          1.3998525334716838,
          0.7451041761858973,
          -0.9095790260067654,
          2.819784471397609,
          -1.330643782088424,
          -2.783567170422471,
          1.3833855341799692,
          -4.931746298462608,
          1.9009528200691392,
          3.6212299567375186,
          0.8014246167412817,
          2.9300266733844818,
          2.9109419952473568,
          -0.8541021090622342,
          3.2417566454881777,
          1.0262964672302834,
          -0.08752442890291567,
          0.2496978885855422,
          1.818820976638618,
          5.308308260535316,
          -4.465462174368072,
          -0.17779491011076612,
          -1.93332688879652,
          2.756464607383593,
          0.9133321434433596,
          -1.2395007545761147,
          0.2698483596173353,
          -0.5852197575247685,
          0.7904541518064946,
          -1.0692415007720153,
          -1.6161444217362382,
          -1.7764490597990188,
          2.186579674427421,
          -2.836189593473333,
          1.5381952048994816,
          -0.8337030313125312,
          1.2857085209126564,
          0.17284736893663685,
          -3.77740476551014,
          -1.618338177292754,
          -4.135354235242483,
          -1.6333012925277703,
          -1.956127183587786,
          -0.6435486428393022,
          0.08337850843583483,
          -0.8864043353407863,
          1.246562625503567,
          0.13474159670514263,
          0.7447033464566465,
          1.9210686997587803,
          -2.633800227801637,
          5.865018169422838,
          -0.7868249061949207,
          2.3112414348231085,
          -3.180790399075849,
          2.7066244083349695,
          -1.0007496490240946,
          2.6531395726278637,
          1.0531096069608437,
          0.24919568995149885,
          -4.1127578522604065,
          -3.7032736010977847,
          -0.1291073284644795,
          1.4352075064054313,
          0.4129116830243005,
          2.345873625981666,
          5.849739162821312,
          -0.5000159901177882,
          -0.7492453256370532,
          -1.7534359676144355,
          -0.24094671711887417,
          1.6207069702943713,
          2.6324116507386246,
          1.4142054412601972,
          -0.37458456791047257,
          4.294931280134981,
          -1.0742413865441904,
          -1.9148927907340263,
          0.2359335527524623,
          1.698181466984837,
          0.38045551122161436,
          1.0140537389063973,
          -0.09572918448733869,
          2.722260935479116,
          0.17035066539936564,
          4.680180827110545,
          -1.6109383078242996,
          -1.0701613478077403,
          -0.9465009187428826,
          0.5268079564450451,
          -4.776623247317747,
          0.9842140578031366,
          0.09759925694312788,
          0.29184434525465835,
          0.8824975512622314,
          -1.4062913259292986,
          -1.9553957836823879,
          0.26561735577659606,
          3.54990160585295,
          -0.1734008005139702,
          0.24594701708730304,
          0.15407244719250424,
          -1.3078821953033515,
          -1.109373958592267,
          1.3803313319878854,
          1.0844073655335018,
          -0.19593874293248545,
          -1.6685941027943945,
          -3.1672398754129576,
          -1.3569152253760228,
          0.7850770955809061
         ],
         "xaxis": "x",
         "y": [
          -1.726368494523686,
          0.2568309016023276,
          -0.8096104563682653,
          -1.770706714246934,
          -0.06872574120494399,
          -1.6561385629361984,
          -0.23812566056883377,
          2.544439412162575,
          0.3493624255162305,
          -0.02496190537054958,
          -1.9017506251785121,
          -1.1220956479684647,
          -0.623883712379477,
          0.4802103092338407,
          1.3700240613053798,
          1.7108713466332657,
          -0.060724449728662186,
          1.4683958428260397,
          -0.585986409206826,
          1.6301533189856596,
          0.3155951163021985,
          0.8423204787774884,
          -1.3429126881908093,
          2.0900901663111697,
          -1.3360163713497875,
          1.6980411231942445,
          -0.01145673670329304,
          0.7051962746429258,
          1.2375858119898437,
          2.109945823199976,
          -0.6836848452881688,
          -0.6385211829938776,
          2.3682009191829665,
          2.2782282861061827,
          1.8339604257338094,
          1.7508189647531585,
          -0.884546990653233,
          0.7790537959155064,
          -0.6515495488789108,
          -0.5574417220294469,
          -0.49963650444348895,
          1.1812707297877998,
          0.435086530498971,
          -0.39491519952624576,
          -0.059620710678773434,
          2.0274312240441494,
          1.8690634788545208,
          -0.817826886564941,
          3.2222996916671525,
          1.080135783306711,
          -0.08794150669230036,
          -1.132007911360319,
          -0.6860969883374967,
          0.9382078404053708,
          2.1869077494324896,
          0.9971480576759626,
          -0.0244452332281395,
          2.0918293175916514,
          1.774929465551003,
          -0.4268090816892327,
          -0.4908564116434423,
          -0.12211774292587732,
          -0.5329560485437141,
          -0.7648712626252107,
          1.649403616064736,
          -0.21556830171896024,
          1.7251482237808424,
          1.082313094162217,
          0.054148021792516224,
          -1.3806320254553444,
          -1.8113043559216038,
          2.313019935703927,
          -0.8181290899475283,
          -1.0861827210655095,
          -0.28058916515351373,
          -0.803680927003079,
          -0.7390694502052384,
          0.14749830477429265,
          0.5009357967268061,
          0.2931097457447043,
          0.02861146903343233,
          -2.2215889105733946,
          -1.3367311076041646,
          1.4226231156581834,
          -1.2143968669148903,
          -0.48138879647562804,
          -1.3077042163292836,
          0.7538330136355612,
          -0.8132100845900619,
          0.7145600467127531,
          -0.8319094114573288,
          0.9650445624356143,
          1.7157239382461504,
          1.7309578494362585,
          -1.517859310752091,
          -1.9407407734264746,
          1.0324718938080202,
          2.829607203581938,
          -1.0133254317599187,
          -0.407766064316065,
          0.49161969925682136,
          -1.3764979994193876,
          -0.3334568866481906,
          -1.8945189314438882,
          0.47503203182961423,
          0.47480194436355916,
          -1.2737819523656675,
          -1.2509284320842327,
          2.1271885578087164,
          0.6819347085072073,
          0.7158069290755508,
          -1.7547746063261627,
          -1.5245584936934404,
          -0.1701660973058723,
          0.24031271776480087,
          2.128771130946943,
          1.6927095760668112,
          -1.7986390215742358,
          0.2015782314877148,
          -1.5821118418115505,
          -0.09582590662669008,
          0.9170075929172508,
          0.11906889836053966,
          0.45397555308168686,
          0.9041222372561603,
          -1.4931636554979415,
          0.23479749416469692,
          0.5992886496359875,
          -1.0021774287902279,
          -1.3536825784894335,
          0.5429907505398701,
          -0.7629260253220363,
          -1.2414086011489536,
          0.4105250375424596,
          -0.9239174875839761,
          0.40411634798831747,
          -1.4423964261398217,
          0.3366325439109168,
          0.8505112094079453,
          -0.05316738331464031,
          -0.27649667526783905,
          0.31836664633813744,
          0.8965384020047579,
          2.107948128231225,
          0.7677119003258395,
          0.6636528642489273,
          -1.2904331155888025,
          -1.8739198417503669,
          -0.26656061609407655,
          -1.4596743066040643,
          -0.6361461472184927,
          -1.8451136436057107,
          -2.08049815727856,
          2.211035735479663,
          -1.5823136905123798,
          1.8805152855718394,
          1.8738395810847301,
          -1.4608384067538693,
          -0.028779075277703497,
          0.8505727484503423,
          0.43247014501895725,
          0.26319377192092547,
          -1.5052499708127065,
          -0.21668747162011992,
          -1.718436749852812,
          -0.6309114416020302,
          -0.25152046827476837,
          -2.431435143401963,
          -1.379587061894508,
          -0.45952538126649123,
          -2.613760135616549,
          0.34828300577746163,
          0.3690847443969804,
          -1.8845306340803976,
          0.37647251686347527,
          0.9598448686888282,
          0.455630742532266,
          0.4150670158657517,
          -0.34759296585020616,
          0.6720769649558395,
          -0.9105095098208973,
          0.18984586522318198,
          1.7358554452811565,
          -1.0989503275906474,
          1.0186778612740435,
          0.34474160632753775,
          -1.2248935390421976,
          -1.7978601241263426,
          1.8033669492207987,
          -0.8085822617822714,
          -1.3210028848823603,
          -1.3347483442846386,
          -0.35128644036651313,
          1.9888728759905372,
          -0.39260817191254077,
          -1.4746704942103988,
          -0.5171697360405122,
          -0.6288072888029069,
          -0.3254329338564337,
          0.1826178597522763
         ],
         "yaxis": "y"
        }
       ],
       "layout": {
        "coloraxis": {
         "colorbar": {
          "title": {
           "text": "Cluster"
          }
         },
         "colorscale": [
          [
           0,
           "#440154"
          ],
          [
           0.1111111111111111,
           "#482878"
          ],
          [
           0.2222222222222222,
           "#3e4989"
          ],
          [
           0.3333333333333333,
           "#31688e"
          ],
          [
           0.4444444444444444,
           "#26828e"
          ],
          [
           0.5555555555555556,
           "#1f9e89"
          ],
          [
           0.6666666666666666,
           "#35b779"
          ],
          [
           0.7777777777777778,
           "#6ece58"
          ],
          [
           0.8888888888888888,
           "#b5de2b"
          ],
          [
           1,
           "#fde725"
          ]
         ]
        },
        "height": 600,
        "legend": {
         "tracegroupgap": 0
        },
        "template": {
         "data": {
          "bar": [
           {
            "error_x": {
             "color": "#2a3f5f"
            },
            "error_y": {
             "color": "#2a3f5f"
            },
            "marker": {
             "line": {
              "color": "#E5ECF6",
              "width": 0.5
             },
             "pattern": {
              "fillmode": "overlay",
              "size": 10,
              "solidity": 0.2
             }
            },
            "type": "bar"
           }
          ],
          "barpolar": [
           {
            "marker": {
             "line": {
              "color": "#E5ECF6",
              "width": 0.5
             },
             "pattern": {
              "fillmode": "overlay",
              "size": 10,
              "solidity": 0.2
             }
            },
            "type": "barpolar"
           }
          ],
          "carpet": [
           {
            "aaxis": {
             "endlinecolor": "#2a3f5f",
             "gridcolor": "white",
             "linecolor": "white",
             "minorgridcolor": "white",
             "startlinecolor": "#2a3f5f"
            },
            "baxis": {
             "endlinecolor": "#2a3f5f",
             "gridcolor": "white",
             "linecolor": "white",
             "minorgridcolor": "white",
             "startlinecolor": "#2a3f5f"
            },
            "type": "carpet"
           }
          ],
          "choropleth": [
           {
            "colorbar": {
             "outlinewidth": 0,
             "ticks": ""
            },
            "type": "choropleth"
           }
          ],
          "contour": [
           {
            "colorbar": {
             "outlinewidth": 0,
             "ticks": ""
            },
            "colorscale": [
             [
              0,
              "#0d0887"
             ],
             [
              0.1111111111111111,
              "#46039f"
             ],
             [
              0.2222222222222222,
              "#7201a8"
             ],
             [
              0.3333333333333333,
              "#9c179e"
             ],
             [
              0.4444444444444444,
              "#bd3786"
             ],
             [
              0.5555555555555556,
              "#d8576b"
             ],
             [
              0.6666666666666666,
              "#ed7953"
             ],
             [
              0.7777777777777778,
              "#fb9f3a"
             ],
             [
              0.8888888888888888,
              "#fdca26"
             ],
             [
              1,
              "#f0f921"
             ]
            ],
            "type": "contour"
           }
          ],
          "contourcarpet": [
           {
            "colorbar": {
             "outlinewidth": 0,
             "ticks": ""
            },
            "type": "contourcarpet"
           }
          ],
          "heatmap": [
           {
            "colorbar": {
             "outlinewidth": 0,
             "ticks": ""
            },
            "colorscale": [
             [
              0,
              "#0d0887"
             ],
             [
              0.1111111111111111,
              "#46039f"
             ],
             [
              0.2222222222222222,
              "#7201a8"
             ],
             [
              0.3333333333333333,
              "#9c179e"
             ],
             [
              0.4444444444444444,
              "#bd3786"
             ],
             [
              0.5555555555555556,
              "#d8576b"
             ],
             [
              0.6666666666666666,
              "#ed7953"
             ],
             [
              0.7777777777777778,
              "#fb9f3a"
             ],
             [
              0.8888888888888888,
              "#fdca26"
             ],
             [
              1,
              "#f0f921"
             ]
            ],
            "type": "heatmap"
           }
          ],
          "heatmapgl": [
           {
            "colorbar": {
             "outlinewidth": 0,
             "ticks": ""
            },
            "colorscale": [
             [
              0,
              "#0d0887"
             ],
             [
              0.1111111111111111,
              "#46039f"
             ],
             [
              0.2222222222222222,
              "#7201a8"
             ],
             [
              0.3333333333333333,
              "#9c179e"
             ],
             [
              0.4444444444444444,
              "#bd3786"
             ],
             [
              0.5555555555555556,
              "#d8576b"
             ],
             [
              0.6666666666666666,
              "#ed7953"
             ],
             [
              0.7777777777777778,
              "#fb9f3a"
             ],
             [
              0.8888888888888888,
              "#fdca26"
             ],
             [
              1,
              "#f0f921"
             ]
            ],
            "type": "heatmapgl"
           }
          ],
          "histogram": [
           {
            "marker": {
             "pattern": {
              "fillmode": "overlay",
              "size": 10,
              "solidity": 0.2
             }
            },
            "type": "histogram"
           }
          ],
          "histogram2d": [
           {
            "colorbar": {
             "outlinewidth": 0,
             "ticks": ""
            },
            "colorscale": [
             [
              0,
              "#0d0887"
             ],
             [
              0.1111111111111111,
              "#46039f"
             ],
             [
              0.2222222222222222,
              "#7201a8"
             ],
             [
              0.3333333333333333,
              "#9c179e"
             ],
             [
              0.4444444444444444,
              "#bd3786"
             ],
             [
              0.5555555555555556,
              "#d8576b"
             ],
             [
              0.6666666666666666,
              "#ed7953"
             ],
             [
              0.7777777777777778,
              "#fb9f3a"
             ],
             [
              0.8888888888888888,
              "#fdca26"
             ],
             [
              1,
              "#f0f921"
             ]
            ],
            "type": "histogram2d"
           }
          ],
          "histogram2dcontour": [
           {
            "colorbar": {
             "outlinewidth": 0,
             "ticks": ""
            },
            "colorscale": [
             [
              0,
              "#0d0887"
             ],
             [
              0.1111111111111111,
              "#46039f"
             ],
             [
              0.2222222222222222,
              "#7201a8"
             ],
             [
              0.3333333333333333,
              "#9c179e"
             ],
             [
              0.4444444444444444,
              "#bd3786"
             ],
             [
              0.5555555555555556,
              "#d8576b"
             ],
             [
              0.6666666666666666,
              "#ed7953"
             ],
             [
              0.7777777777777778,
              "#fb9f3a"
             ],
             [
              0.8888888888888888,
              "#fdca26"
             ],
             [
              1,
              "#f0f921"
             ]
            ],
            "type": "histogram2dcontour"
           }
          ],
          "mesh3d": [
           {
            "colorbar": {
             "outlinewidth": 0,
             "ticks": ""
            },
            "type": "mesh3d"
           }
          ],
          "parcoords": [
           {
            "line": {
             "colorbar": {
              "outlinewidth": 0,
              "ticks": ""
             }
            },
            "type": "parcoords"
           }
          ],
          "pie": [
           {
            "automargin": true,
            "type": "pie"
           }
          ],
          "scatter": [
           {
            "fillpattern": {
             "fillmode": "overlay",
             "size": 10,
             "solidity": 0.2
            },
            "type": "scatter"
           }
          ],
          "scatter3d": [
           {
            "line": {
             "colorbar": {
              "outlinewidth": 0,
              "ticks": ""
             }
            },
            "marker": {
             "colorbar": {
              "outlinewidth": 0,
              "ticks": ""
             }
            },
            "type": "scatter3d"
           }
          ],
          "scattercarpet": [
           {
            "marker": {
             "colorbar": {
              "outlinewidth": 0,
              "ticks": ""
             }
            },
            "type": "scattercarpet"
           }
          ],
          "scattergeo": [
           {
            "marker": {
             "colorbar": {
              "outlinewidth": 0,
              "ticks": ""
             }
            },
            "type": "scattergeo"
           }
          ],
          "scattergl": [
           {
            "marker": {
             "colorbar": {
              "outlinewidth": 0,
              "ticks": ""
             }
            },
            "type": "scattergl"
           }
          ],
          "scattermapbox": [
           {
            "marker": {
             "colorbar": {
              "outlinewidth": 0,
              "ticks": ""
             }
            },
            "type": "scattermapbox"
           }
          ],
          "scatterpolar": [
           {
            "marker": {
             "colorbar": {
              "outlinewidth": 0,
              "ticks": ""
             }
            },
            "type": "scatterpolar"
           }
          ],
          "scatterpolargl": [
           {
            "marker": {
             "colorbar": {
              "outlinewidth": 0,
              "ticks": ""
             }
            },
            "type": "scatterpolargl"
           }
          ],
          "scatterternary": [
           {
            "marker": {
             "colorbar": {
              "outlinewidth": 0,
              "ticks": ""
             }
            },
            "type": "scatterternary"
           }
          ],
          "surface": [
           {
            "colorbar": {
             "outlinewidth": 0,
             "ticks": ""
            },
            "colorscale": [
             [
              0,
              "#0d0887"
             ],
             [
              0.1111111111111111,
              "#46039f"
             ],
             [
              0.2222222222222222,
              "#7201a8"
             ],
             [
              0.3333333333333333,
              "#9c179e"
             ],
             [
              0.4444444444444444,
              "#bd3786"
             ],
             [
              0.5555555555555556,
              "#d8576b"
             ],
             [
              0.6666666666666666,
              "#ed7953"
             ],
             [
              0.7777777777777778,
              "#fb9f3a"
             ],
             [
              0.8888888888888888,
              "#fdca26"
             ],
             [
              1,
              "#f0f921"
             ]
            ],
            "type": "surface"
           }
          ],
          "table": [
           {
            "cells": {
             "fill": {
              "color": "#EBF0F8"
             },
             "line": {
              "color": "white"
             }
            },
            "header": {
             "fill": {
              "color": "#C8D4E3"
             },
             "line": {
              "color": "white"
             }
            },
            "type": "table"
           }
          ]
         },
         "layout": {
          "annotationdefaults": {
           "arrowcolor": "#2a3f5f",
           "arrowhead": 0,
           "arrowwidth": 1
          },
          "autotypenumbers": "strict",
          "coloraxis": {
           "colorbar": {
            "outlinewidth": 0,
            "ticks": ""
           }
          },
          "colorscale": {
           "diverging": [
            [
             0,
             "#8e0152"
            ],
            [
             0.1,
             "#c51b7d"
            ],
            [
             0.2,
             "#de77ae"
            ],
            [
             0.3,
             "#f1b6da"
            ],
            [
             0.4,
             "#fde0ef"
            ],
            [
             0.5,
             "#f7f7f7"
            ],
            [
             0.6,
             "#e6f5d0"
            ],
            [
             0.7,
             "#b8e186"
            ],
            [
             0.8,
             "#7fbc41"
            ],
            [
             0.9,
             "#4d9221"
            ],
            [
             1,
             "#276419"
            ]
           ],
           "sequential": [
            [
             0,
             "#0d0887"
            ],
            [
             0.1111111111111111,
             "#46039f"
            ],
            [
             0.2222222222222222,
             "#7201a8"
            ],
            [
             0.3333333333333333,
             "#9c179e"
            ],
            [
             0.4444444444444444,
             "#bd3786"
            ],
            [
             0.5555555555555556,
             "#d8576b"
            ],
            [
             0.6666666666666666,
             "#ed7953"
            ],
            [
             0.7777777777777778,
             "#fb9f3a"
            ],
            [
             0.8888888888888888,
             "#fdca26"
            ],
            [
             1,
             "#f0f921"
            ]
           ],
           "sequentialminus": [
            [
             0,
             "#0d0887"
            ],
            [
             0.1111111111111111,
             "#46039f"
            ],
            [
             0.2222222222222222,
             "#7201a8"
            ],
            [
             0.3333333333333333,
             "#9c179e"
            ],
            [
             0.4444444444444444,
             "#bd3786"
            ],
            [
             0.5555555555555556,
             "#d8576b"
            ],
            [
             0.6666666666666666,
             "#ed7953"
            ],
            [
             0.7777777777777778,
             "#fb9f3a"
            ],
            [
             0.8888888888888888,
             "#fdca26"
            ],
            [
             1,
             "#f0f921"
            ]
           ]
          },
          "colorway": [
           "#636efa",
           "#EF553B",
           "#00cc96",
           "#ab63fa",
           "#FFA15A",
           "#19d3f3",
           "#FF6692",
           "#B6E880",
           "#FF97FF",
           "#FECB52"
          ],
          "font": {
           "color": "#2a3f5f"
          },
          "geo": {
           "bgcolor": "white",
           "lakecolor": "white",
           "landcolor": "#E5ECF6",
           "showlakes": true,
           "showland": true,
           "subunitcolor": "white"
          },
          "hoverlabel": {
           "align": "left"
          },
          "hovermode": "closest",
          "mapbox": {
           "style": "light"
          },
          "paper_bgcolor": "white",
          "plot_bgcolor": "#E5ECF6",
          "polar": {
           "angularaxis": {
            "gridcolor": "white",
            "linecolor": "white",
            "ticks": ""
           },
           "bgcolor": "#E5ECF6",
           "radialaxis": {
            "gridcolor": "white",
            "linecolor": "white",
            "ticks": ""
           }
          },
          "scene": {
           "xaxis": {
            "backgroundcolor": "#E5ECF6",
            "gridcolor": "white",
            "gridwidth": 2,
            "linecolor": "white",
            "showbackground": true,
            "ticks": "",
            "zerolinecolor": "white"
           },
           "yaxis": {
            "backgroundcolor": "#E5ECF6",
            "gridcolor": "white",
            "gridwidth": 2,
            "linecolor": "white",
            "showbackground": true,
            "ticks": "",
            "zerolinecolor": "white"
           },
           "zaxis": {
            "backgroundcolor": "#E5ECF6",
            "gridcolor": "white",
            "gridwidth": 2,
            "linecolor": "white",
            "showbackground": true,
            "ticks": "",
            "zerolinecolor": "white"
           }
          },
          "shapedefaults": {
           "line": {
            "color": "#2a3f5f"
           }
          },
          "ternary": {
           "aaxis": {
            "gridcolor": "white",
            "linecolor": "white",
            "ticks": ""
           },
           "baxis": {
            "gridcolor": "white",
            "linecolor": "white",
            "ticks": ""
           },
           "bgcolor": "#E5ECF6",
           "caxis": {
            "gridcolor": "white",
            "linecolor": "white",
            "ticks": ""
           }
          },
          "title": {
           "x": 0.05
          },
          "xaxis": {
           "automargin": true,
           "gridcolor": "white",
           "linecolor": "white",
           "ticks": "",
           "title": {
            "standoff": 15
           },
           "zerolinecolor": "white",
           "zerolinewidth": 2
          },
          "yaxis": {
           "automargin": true,
           "gridcolor": "white",
           "linecolor": "white",
           "ticks": "",
           "title": {
            "standoff": 15
           },
           "zerolinecolor": "white",
           "zerolinewidth": 2
          }
         }
        },
        "title": {
         "text": "Customer Clusters Visualized with PCA"
        },
        "width": 1000,
        "xaxis": {
         "anchor": "y",
         "autorange": true,
         "domain": [
          0,
          1
         ],
         "range": [
          -5.676890132451171,
          6.531255378721595
         ],
         "title": {
          "text": "Principal Component 1"
         },
         "type": "linear"
        },
        "yaxis": {
         "anchor": "x",
         "autorange": true,
         "domain": [
          0,
          1
         ],
         "range": [
          -3.0036183831881327,
          3.612157939238736
         ],
         "title": {
          "text": "Principal Component 2"
         },
         "type": "linear"
        }
       }
      },
      "image/png": "[encoded data removed]",
      "text/html": [
       "<div>                            <div id=\"2fc430df-cc9b-4dd5-ba88-624b05c473fd\" class=\"plotly-graph-div\" style=\"height:600px; width:1000px;\"></div>            <script type=\"text/javascript\">                require([\"plotly\"], function(Plotly) {                    window.PLOTLYENV=window.PLOTLYENV || {};                                    if (document.getElementById(\"2fc430df-cc9b-4dd5-ba88-624b05c473fd\")) {                    Plotly.newPlot(                        \"2fc430df-cc9b-4dd5-ba88-624b05c473fd\",                        [{\"hovertemplate\":\"x=%{x}\\u003cbr\\u003ey=%{y}\\u003cbr\\u003ecolor=%{marker.color}\\u003cextra\\u003e\\u003c\\u002fextra\\u003e\",\"legendgroup\":\"\",\"marker\":{\"color\":[1,8,1,5,8,3,8,5,6,6,3,5,0,2,2,7,4,7,4,2,0,8,4,7,1,7,8,0,7,7,1,1,2,7,7,7,4,5,1,8,4,7,8,6,0,7,5,1,7,7,4,1,4,0,7,8,4,2,5,6,6,6,6,4,5,4,7,0,4,6,1,7,6,6,0,1,1,8,7,2,4,3,1,0,1,4,3,8,6,0,1,8,0,7,1,3,2,7,0,4,0,0,6,5,4,8,1,3,0,2,4,1,5,4,8,7,7,3,6,1,6,5,8,4,7,3,4,2,1,2,7,6,1,8,6,5,3,8,5,8,0,8,0,2,0,8,5,3,4,2,1,1,3,7,3,0,7,1,8,5,0,0,5,4,0,6,6,3,3,4,3,4,0,3,0,7,8,8,4,2,1,4,7,1,7,8,3,0,7,1,3,1,8,7,1,4,6,6,6,8],\"coloraxis\":\"coloraxis\",\"opacity\":0.6,\"symbol\":\"circle\"},\"mode\":\"markers\",\"name\":\"\",\"orientation\":\"v\",\"showlegend\":false,\"x\":[0.1876224461361959,-1.1706847803250975,-0.8208850442476103,3.276436952374213,-1.8611259949730592,-0.22945018136946643,-1.8012011621895387,3.703833521205483,-2.6827955524991483,-1.0677460845397342,0.5919006991213875,2.019107013800793,2.462640761842436,-5.0106529231524135,-3.0139243763832164,0.152963399563655,2.712103396088535,0.632340196532155,0.24436529404036209,-4.280162927918563,2.614393495221403,0.9462070688942587,1.3658768012944122,1.2175060272036042,-1.5734685693432162,-0.5311541491620388,-0.7938385336135735,3.2301943915164295,-0.871964504761275,-0.04644847195221014,-1.0609932313248855,-2.2780968076770587,-4.416486736157731,0.8856164293431543,-1.004144142909307,-1.8451964573775514,0.1312764581586182,-0.019206353929693866,1.2331844034519186,-1.419874486106106,2.701815564986681,-1.6601591002309426,-2.433183084723085,-1.521121601148501,2.510770372445337,2.106306756733166,0.7991208382610103,0.3239248342968706,1.6610760504133921,-1.2474563043908038,2.0731102893781777,-1.404712253810441,1.4368035045979426,3.6403849237110726,-0.23930565524439845,0.08745595063623074,1.2335881285264894,-4.76479719458786,3.19311387256066,-4.379247295803355,-1.8068918243529273,-2.603189291100658,-2.8926880936880845,0.3363312369302397,4.966224079338939,-1.3595880358829497,0.9286604563659647,3.532926995666257,-0.25236388663023596,-0.6127215026514067,-2.140457961857179,0.036127171970886184,-2.37573701196702,-1.6901225558259168,4.14329557575583,-0.3513767111604501,-2.155737038965678,-3.4433369023955893,-0.49455488277398163,-4.252890975627929,0.6175840454671344,3.381883263142917,-2.2371141577241693,3.139555787099447,-1.6477616900029797,-0.0751575318407928,2.823341037784438,-0.3517877595969004,-2.20720056142842,1.3998525334716838,0.7451041761858973,-0.9095790260067654,2.819784471397609,-1.330643782088424,-2.783567170422471,1.3833855341799692,-4.931746298462608,1.9009528200691392,3.6212299567375186,0.8014246167412817,2.9300266733844818,2.9109419952473568,-0.8541021090622342,3.2417566454881777,1.0262964672302834,-0.08752442890291567,0.2496978885855422,1.818820976638618,5.308308260535316,-4.465462174368072,-0.17779491011076612,-1.93332688879652,2.756464607383593,0.9133321434433596,-1.2395007545761147,0.2698483596173353,-0.5852197575247685,0.7904541518064946,-1.0692415007720153,-1.6161444217362382,-1.7764490597990188,2.186579674427421,-2.836189593473333,1.5381952048994816,-0.8337030313125312,1.2857085209126564,0.17284736893663685,-3.77740476551014,-1.618338177292754,-4.135354235242483,-1.6333012925277703,-1.956127183587786,-0.6435486428393022,0.08337850843583483,-0.8864043353407863,1.246562625503567,0.13474159670514263,0.7447033464566465,1.9210686997587803,-2.633800227801637,5.865018169422838,-0.7868249061949207,2.3112414348231085,-3.180790399075849,2.7066244083349695,-1.0007496490240946,2.6531395726278637,1.0531096069608437,0.24919568995149885,-4.1127578522604065,-3.7032736010977847,-0.1291073284644795,1.4352075064054313,0.4129116830243005,2.345873625981666,5.849739162821312,-0.5000159901177882,-0.7492453256370532,-1.7534359676144355,-0.24094671711887417,1.6207069702943713,2.6324116507386246,1.4142054412601972,-0.37458456791047257,4.294931280134981,-1.0742413865441904,-1.9148927907340263,0.2359335527524623,1.698181466984837,0.38045551122161436,1.0140537389063973,-0.09572918448733869,2.722260935479116,0.17035066539936564,4.680180827110545,-1.6109383078242996,-1.0701613478077403,-0.9465009187428826,0.5268079564450451,-4.776623247317747,0.9842140578031366,0.09759925694312788,0.29184434525465835,0.8824975512622314,-1.4062913259292986,-1.9553957836823879,0.26561735577659606,3.54990160585295,-0.1734008005139702,0.24594701708730304,0.15407244719250424,-1.3078821953033515,-1.109373958592267,1.3803313319878854,1.0844073655335018,-0.19593874293248545,-1.6685941027943945,-3.1672398754129576,-1.3569152253760228,0.7850770955809061],\"xaxis\":\"x\",\"y\":[-1.726368494523686,0.2568309016023276,-0.8096104563682653,-1.770706714246934,-0.06872574120494399,-1.6561385629361984,-0.23812566056883377,2.544439412162575,0.3493624255162305,-0.02496190537054958,-1.9017506251785121,-1.1220956479684647,-0.623883712379477,0.4802103092338407,1.3700240613053798,1.7108713466332657,-0.060724449728662186,1.4683958428260397,-0.585986409206826,1.6301533189856596,0.3155951163021985,0.8423204787774884,-1.3429126881908093,2.0900901663111697,-1.3360163713497875,1.6980411231942445,-0.01145673670329304,0.7051962746429258,1.2375858119898437,2.109945823199976,-0.6836848452881688,-0.6385211829938776,2.3682009191829665,2.2782282861061827,1.8339604257338094,1.7508189647531585,-0.884546990653233,0.7790537959155064,-0.6515495488789108,-0.5574417220294469,-0.49963650444348895,1.1812707297877998,0.435086530498971,-0.39491519952624576,-0.059620710678773434,2.0274312240441494,1.8690634788545208,-0.817826886564941,3.2222996916671525,1.080135783306711,-0.08794150669230036,-1.132007911360319,-0.6860969883374967,0.9382078404053708,2.1869077494324896,0.9971480576759626,-0.0244452332281395,2.0918293175916514,1.774929465551003,-0.4268090816892327,-0.4908564116434423,-0.12211774292587732,-0.5329560485437141,-0.7648712626252107,1.649403616064736,-0.21556830171896024,1.7251482237808424,1.082313094162217,0.054148021792516224,-1.3806320254553444,-1.8113043559216038,2.313019935703927,-0.8181290899475283,-1.0861827210655095,-0.28058916515351373,-0.803680927003079,-0.7390694502052384,0.14749830477429265,0.5009357967268061,0.2931097457447043,0.02861146903343233,-2.2215889105733946,-1.3367311076041646,1.4226231156581834,-1.2143968669148903,-0.48138879647562804,-1.3077042163292836,0.7538330136355612,-0.8132100845900619,0.7145600467127531,-0.8319094114573288,0.9650445624356143,1.7157239382461504,1.7309578494362585,-1.517859310752091,-1.9407407734264746,1.0324718938080202,2.829607203581938,-1.0133254317599187,-0.407766064316065,0.49161969925682136,-1.3764979994193876,-0.3334568866481906,-1.8945189314438882,0.47503203182961423,0.47480194436355916,-1.2737819523656675,-1.2509284320842327,2.1271885578087164,0.6819347085072073,0.7158069290755508,-1.7547746063261627,-1.5245584936934404,-0.1701660973058723,0.24031271776480087,2.128771130946943,1.6927095760668112,-1.7986390215742358,0.2015782314877148,-1.5821118418115505,-0.09582590662669008,0.9170075929172508,0.11906889836053966,0.45397555308168686,0.9041222372561603,-1.4931636554979415,0.23479749416469692,0.5992886496359875,-1.0021774287902279,-1.3536825784894335,0.5429907505398701,-0.7629260253220363,-1.2414086011489536,0.4105250375424596,-0.9239174875839761,0.40411634798831747,-1.4423964261398217,0.3366325439109168,0.8505112094079453,-0.05316738331464031,-0.27649667526783905,0.31836664633813744,0.8965384020047579,2.107948128231225,0.7677119003258395,0.6636528642489273,-1.2904331155888025,-1.8739198417503669,-0.26656061609407655,-1.4596743066040643,-0.6361461472184927,-1.8451136436057107,-2.08049815727856,2.211035735479663,-1.5823136905123798,1.8805152855718394,1.8738395810847301,-1.4608384067538693,-0.028779075277703497,0.8505727484503423,0.43247014501895725,0.26319377192092547,-1.5052499708127065,-0.21668747162011992,-1.718436749852812,-0.6309114416020302,-0.25152046827476837,-2.431435143401963,-1.379587061894508,-0.45952538126649123,-2.613760135616549,0.34828300577746163,0.3690847443969804,-1.8845306340803976,0.37647251686347527,0.9598448686888282,0.455630742532266,0.4150670158657517,-0.34759296585020616,0.6720769649558395,-0.9105095098208973,0.18984586522318198,1.7358554452811565,-1.0989503275906474,1.0186778612740435,0.34474160632753775,-1.2248935390421976,-1.7978601241263426,1.8033669492207987,-0.8085822617822714,-1.3210028848823603,-1.3347483442846386,-0.35128644036651313,1.9888728759905372,-0.39260817191254077,-1.4746704942103988,-0.5171697360405122,-0.6288072888029069,-0.3254329338564337,0.1826178597522763],\"yaxis\":\"y\",\"type\":\"scatter\"}],                        {\"template\":{\"data\":{\"histogram2dcontour\":[{\"type\":\"histogram2dcontour\",\"colorbar\":{\"outlinewidth\":0,\"ticks\":\"\"},\"colorscale\":[[0.0,\"#0d0887\"],[0.1111111111111111,\"#46039f\"],[0.2222222222222222,\"#7201a8\"],[0.3333333333333333,\"#9c179e\"],[0.4444444444444444,\"#bd3786\"],[0.5555555555555556,\"#d8576b\"],[0.6666666666666666,\"#ed7953\"],[0.7777777777777778,\"#fb9f3a\"],[0.8888888888888888,\"#fdca26\"],[1.0,\"#f0f921\"]]}],\"choropleth\":[{\"type\":\"choropleth\",\"colorbar\":{\"outlinewidth\":0,\"ticks\":\"\"}}],\"histogram2d\":[{\"type\":\"histogram2d\",\"colorbar\":{\"outlinewidth\":0,\"ticks\":\"\"},\"colorscale\":[[0.0,\"#0d0887\"],[0.1111111111111111,\"#46039f\"],[0.2222222222222222,\"#7201a8\"],[0.3333333333333333,\"#9c179e\"],[0.4444444444444444,\"#bd3786\"],[0.5555555555555556,\"#d8576b\"],[0.6666666666666666,\"#ed7953\"],[0.7777777777777778,\"#fb9f3a\"],[0.8888888888888888,\"#fdca26\"],[1.0,\"#f0f921\"]]}],\"heatmap\":[{\"type\":\"heatmap\",\"colorbar\":{\"outlinewidth\":0,\"ticks\":\"\"},\"colorscale\":[[0.0,\"#0d0887\"],[0.1111111111111111,\"#46039f\"],[0.2222222222222222,\"#7201a8\"],[0.3333333333333333,\"#9c179e\"],[0.4444444444444444,\"#bd3786\"],[0.5555555555555556,\"#d8576b\"],[0.6666666666666666,\"#ed7953\"],[0.7777777777777778,\"#fb9f3a\"],[0.8888888888888888,\"#fdca26\"],[1.0,\"#f0f921\"]]}],\"heatmapgl\":[{\"type\":\"heatmapgl\",\"colorbar\":{\"outlinewidth\":0,\"ticks\":\"\"},\"colorscale\":[[0.0,\"#0d0887\"],[0.1111111111111111,\"#46039f\"],[0.2222222222222222,\"#7201a8\"],[0.3333333333333333,\"#9c179e\"],[0.4444444444444444,\"#bd3786\"],[0.5555555555555556,\"#d8576b\"],[0.6666666666666666,\"#ed7953\"],[0.7777777777777778,\"#fb9f3a\"],[0.8888888888888888,\"#fdca26\"],[1.0,\"#f0f921\"]]}],\"contourcarpet\":[{\"type\":\"contourcarpet\",\"colorbar\":{\"outlinewidth\":0,\"ticks\":\"\"}}],\"contour\":[{\"type\":\"contour\",\"colorbar\":{\"outlinewidth\":0,\"ticks\":\"\"},\"colorscale\":[[0.0,\"#0d0887\"],[0.1111111111111111,\"#46039f\"],[0.2222222222222222,\"#7201a8\"],[0.3333333333333333,\"#9c179e\"],[0.4444444444444444,\"#bd3786\"],[0.5555555555555556,\"#d8576b\"],[0.6666666666666666,\"#ed7953\"],[0.7777777777777778,\"#fb9f3a\"],[0.8888888888888888,\"#fdca26\"],[1.0,\"#f0f921\"]]}],\"surface\":[{\"type\":\"surface\",\"colorbar\":{\"outlinewidth\":0,\"ticks\":\"\"},\"colorscale\":[[0.0,\"#0d0887\"],[0.1111111111111111,\"#46039f\"],[0.2222222222222222,\"#7201a8\"],[0.3333333333333333,\"#9c179e\"],[0.4444444444444444,\"#bd3786\"],[0.5555555555555556,\"#d8576b\"],[0.6666666666666666,\"#ed7953\"],[0.7777777777777778,\"#fb9f3a\"],[0.8888888888888888,\"#fdca26\"],[1.0,\"#f0f921\"]]}],\"mesh3d\":[{\"type\":\"mesh3d\",\"colorbar\":{\"outlinewidth\":0,\"ticks\":\"\"}}],\"scatter\":[{\"fillpattern\":{\"fillmode\":\"overlay\",\"size\":10,\"solidity\":0.2},\"type\":\"scatter\"}],\"parcoords\":[{\"type\":\"parcoords\",\"line\":{\"colorbar\":{\"outlinewidth\":0,\"ticks\":\"\"}}}],\"scatterpolargl\":[{\"type\":\"scatterpolargl\",\"marker\":{\"colorbar\":{\"outlinewidth\":0,\"ticks\":\"\"}}}],\"bar\":[{\"error_x\":{\"color\":\"#2a3f5f\"},\"error_y\":{\"color\":\"#2a3f5f\"},\"marker\":{\"line\":{\"color\":\"#E5ECF6\",\"width\":0.5},\"pattern\":{\"fillmode\":\"overlay\",\"size\":10,\"solidity\":0.2}},\"type\":\"bar\"}],\"scattergeo\":[{\"type\":\"scattergeo\",\"marker\":{\"colorbar\":{\"outlinewidth\":0,\"ticks\":\"\"}}}],\"scatterpolar\":[{\"type\":\"scatterpolar\",\"marker\":{\"colorbar\":{\"outlinewidth\":0,\"ticks\":\"\"}}}],\"histogram\":[{\"marker\":{\"pattern\":{\"fillmode\":\"overlay\",\"size\":10,\"solidity\":0.2}},\"type\":\"histogram\"}],\"scattergl\":[{\"type\":\"scattergl\",\"marker\":{\"colorbar\":{\"outlinewidth\":0,\"ticks\":\"\"}}}],\"scatter3d\":[{\"type\":\"scatter3d\",\"line\":{\"colorbar\":{\"outlinewidth\":0,\"ticks\":\"\"}},\"marker\":{\"colorbar\":{\"outlinewidth\":0,\"ticks\":\"\"}}}],\"scattermapbox\":[{\"type\":\"scattermapbox\",\"marker\":{\"colorbar\":{\"outlinewidth\":0,\"ticks\":\"\"}}}],\"scatterternary\":[{\"type\":\"scatterternary\",\"marker\":{\"colorbar\":{\"outlinewidth\":0,\"ticks\":\"\"}}}],\"scattercarpet\":[{\"type\":\"scattercarpet\",\"marker\":{\"colorbar\":{\"outlinewidth\":0,\"ticks\":\"\"}}}],\"carpet\":[{\"aaxis\":{\"endlinecolor\":\"#2a3f5f\",\"gridcolor\":\"white\",\"linecolor\":\"white\",\"minorgridcolor\":\"white\",\"startlinecolor\":\"#2a3f5f\"},\"baxis\":{\"endlinecolor\":\"#2a3f5f\",\"gridcolor\":\"white\",\"linecolor\":\"white\",\"minorgridcolor\":\"white\",\"startlinecolor\":\"#2a3f5f\"},\"type\":\"carpet\"}],\"table\":[{\"cells\":{\"fill\":{\"color\":\"#EBF0F8\"},\"line\":{\"color\":\"white\"}},\"header\":{\"fill\":{\"color\":\"#C8D4E3\"},\"line\":{\"color\":\"white\"}},\"type\":\"table\"}],\"barpolar\":[{\"marker\":{\"line\":{\"color\":\"#E5ECF6\",\"width\":0.5},\"pattern\":{\"fillmode\":\"overlay\",\"size\":10,\"solidity\":0.2}},\"type\":\"barpolar\"}],\"pie\":[{\"automargin\":true,\"type\":\"pie\"}]},\"layout\":{\"autotypenumbers\":\"strict\",\"colorway\":[\"#636efa\",\"#EF553B\",\"#00cc96\",\"#ab63fa\",\"#FFA15A\",\"#19d3f3\",\"#FF6692\",\"#B6E880\",\"#FF97FF\",\"#FECB52\"],\"font\":{\"color\":\"#2a3f5f\"},\"hovermode\":\"closest\",\"hoverlabel\":{\"align\":\"left\"},\"paper_bgcolor\":\"white\",\"plot_bgcolor\":\"#E5ECF6\",\"polar\":{\"bgcolor\":\"#E5ECF6\",\"angularaxis\":{\"gridcolor\":\"white\",\"linecolor\":\"white\",\"ticks\":\"\"},\"radialaxis\":{\"gridcolor\":\"white\",\"linecolor\":\"white\",\"ticks\":\"\"}},\"ternary\":{\"bgcolor\":\"#E5ECF6\",\"aaxis\":{\"gridcolor\":\"white\",\"linecolor\":\"white\",\"ticks\":\"\"},\"baxis\":{\"gridcolor\":\"white\",\"linecolor\":\"white\",\"ticks\":\"\"},\"caxis\":{\"gridcolor\":\"white\",\"linecolor\":\"white\",\"ticks\":\"\"}},\"coloraxis\":{\"colorbar\":{\"outlinewidth\":0,\"ticks\":\"\"}},\"colorscale\":{\"sequential\":[[0.0,\"#0d0887\"],[0.1111111111111111,\"#46039f\"],[0.2222222222222222,\"#7201a8\"],[0.3333333333333333,\"#9c179e\"],[0.4444444444444444,\"#bd3786\"],[0.5555555555555556,\"#d8576b\"],[0.6666666666666666,\"#ed7953\"],[0.7777777777777778,\"#fb9f3a\"],[0.8888888888888888,\"#fdca26\"],[1.0,\"#f0f921\"]],\"sequentialminus\":[[0.0,\"#0d0887\"],[0.1111111111111111,\"#46039f\"],[0.2222222222222222,\"#7201a8\"],[0.3333333333333333,\"#9c179e\"],[0.4444444444444444,\"#bd3786\"],[0.5555555555555556,\"#d8576b\"],[0.6666666666666666,\"#ed7953\"],[0.7777777777777778,\"#fb9f3a\"],[0.8888888888888888,\"#fdca26\"],[1.0,\"#f0f921\"]],\"diverging\":[[0,\"#8e0152\"],[0.1,\"#c51b7d\"],[0.2,\"#de77ae\"],[0.3,\"#f1b6da\"],[0.4,\"#fde0ef\"],[0.5,\"#f7f7f7\"],[0.6,\"#e6f5d0\"],[0.7,\"#b8e186\"],[0.8,\"#7fbc41\"],[0.9,\"#4d9221\"],[1,\"#276419\"]]},\"xaxis\":{\"gridcolor\":\"white\",\"linecolor\":\"white\",\"ticks\":\"\",\"title\":{\"standoff\":15},\"zerolinecolor\":\"white\",\"automargin\":true,\"zerolinewidth\":2},\"yaxis\":{\"gridcolor\":\"white\",\"linecolor\":\"white\",\"ticks\":\"\",\"title\":{\"standoff\":15},\"zerolinecolor\":\"white\",\"automargin\":true,\"zerolinewidth\":2},\"scene\":{\"xaxis\":{\"backgroundcolor\":\"#E5ECF6\",\"gridcolor\":\"white\",\"linecolor\":\"white\",\"showbackground\":true,\"ticks\":\"\",\"zerolinecolor\":\"white\",\"gridwidth\":2},\"yaxis\":{\"backgroundcolor\":\"#E5ECF6\",\"gridcolor\":\"white\",\"linecolor\":\"white\",\"showbackground\":true,\"ticks\":\"\",\"zerolinecolor\":\"white\",\"gridwidth\":2},\"zaxis\":{\"backgroundcolor\":\"#E5ECF6\",\"gridcolor\":\"white\",\"linecolor\":\"white\",\"showbackground\":true,\"ticks\":\"\",\"zerolinecolor\":\"white\",\"gridwidth\":2}},\"shapedefaults\":{\"line\":{\"color\":\"#2a3f5f\"}},\"annotationdefaults\":{\"arrowcolor\":\"#2a3f5f\",\"arrowhead\":0,\"arrowwidth\":1},\"geo\":{\"bgcolor\":\"white\",\"landcolor\":\"#E5ECF6\",\"subunitcolor\":\"white\",\"showland\":true,\"showlakes\":true,\"lakecolor\":\"white\"},\"title\":{\"x\":0.05},\"mapbox\":{\"style\":\"light\"}}},\"xaxis\":{\"anchor\":\"y\",\"domain\":[0.0,1.0],\"title\":{\"text\":\"Principal Component 1\"}},\"yaxis\":{\"anchor\":\"x\",\"domain\":[0.0,1.0],\"title\":{\"text\":\"Principal Component 2\"}},\"coloraxis\":{\"colorbar\":{\"title\":{\"text\":\"Cluster\"}},\"colorscale\":[[0.0,\"#440154\"],[0.1111111111111111,\"#482878\"],[0.2222222222222222,\"#3e4989\"],[0.3333333333333333,\"#31688e\"],[0.4444444444444444,\"#26828e\"],[0.5555555555555556,\"#1f9e89\"],[0.6666666666666666,\"#35b779\"],[0.7777777777777778,\"#6ece58\"],[0.8888888888888888,\"#b5de2b\"],[1.0,\"#fde725\"]]},\"legend\":{\"tracegroupgap\":0},\"title\":{\"text\":\"Customer Clusters Visualized with PCA\"},\"height\":600,\"width\":1000},                        {\"responsive\": true}                    ).then(function(){\n",
       "                            \n",
       "var gd = document.getElementById('2fc430df-cc9b-4dd5-ba88-624b05c473fd');\n",
       "var x = new MutationObserver(function (mutations, observer) {{\n",
       "        var display = window.getComputedStyle(gd).display;\n",
       "        if (!display || display === 'none') {{\n",
       "            console.log([gd, 'removed!']);\n",
       "            Plotly.purge(gd);\n",
       "            observer.disconnect();\n",
       "        }}\n",
       "}});\n",
       "\n",
       "// Listen for the removal of the full notebook cells\n",
       "var notebookContainer = gd.closest('#notebook-container');\n",
       "if (notebookContainer) {{\n",
       "    x.observe(notebookContainer, {childList: true});\n",
       "}}\n",
       "\n",
       "// Listen for the clearing of the current output cell\n",
       "var outputEl = gd.closest('.output');\n",
       "if (outputEl) {{\n",
       "    x.observe(outputEl, {childList: true});\n",
       "}}\n",
       "\n",
       "                        })                };                });            </script>        </div>"
      ]
     },
     "metadata": {},
     "output_type": "display_data"
    }
   ],
   "source": [
    "# Create interactive scatter plot\n",
    "fig = px.scatter(principal_components, \n",
    "                 x=principal_components[:, 0], \n",
    "                 y=principal_components[:, 1], \n",
    "                 color=clusters,\n",
    "                 color_continuous_scale='viridis',\n",
    "                 opacity=0.6,\n",
    "                 title='Customer Clusters Visualized with PCA',\n",
    "                 width=1000,\n",
    "                 height=600)\n",
    "\n",
    "# Update layout and axis labels\n",
    "fig.update_layout(\n",
    "    xaxis_title='Principal Component 1',\n",
    "    yaxis_title='Principal Component 2',\n",
    "    coloraxis_colorbar=dict(title='Cluster')\n",
    ")\n",
    "\n",
    "fig.show()\n"
   ]
  },
  {
   "cell_type": "code",
   "execution_count": 202,
   "id": "53f8f677-d431-43cc-a7b7-870b0f672a67",
   "metadata": {},
   "outputs": [],
   "source": [
    "db_index = davies_bouldin_score(scaled_features, clusters)"
   ]
  },
  {
   "cell_type": "code",
   "execution_count": 203,
   "id": "4d726695-1c44-479e-894d-c35c5e73636f",
   "metadata": {},
   "outputs": [
    {
     "data": {
      "text/plain": [
       "1.6308250998512885"
      ]
     },
     "execution_count": 203,
     "metadata": {},
     "output_type": "execute_result"
    }
   ],
   "source": [
    "db_index"
   ]
  },
  {
   "cell_type": "markdown",
   "id": "43940d84-2386-4be1-a565-57b3ad3d637f",
   "metadata": {},
   "source": [
    "# 2. DBSCAN"
   ]
  },
  {
   "cell_type": "code",
   "execution_count": 226,
   "id": "1db8b355-0736-4532-851f-b94f07cf4263",
   "metadata": {},
   "outputs": [],
   "source": [
    "dbscan = DBSCAN(eps=3, min_samples=3) \n",
    "clusters_dbscan = dbscan.fit_predict(scaled_features)"
   ]
  },
  {
   "cell_type": "code",
   "execution_count": 227,
   "id": "296afee5-33ef-4d8a-adc2-3e79b6847668",
   "metadata": {},
   "outputs": [
    {
     "name": "stdout",
     "output_type": "stream",
     "text": [
      "DBSCAN Clusters: [-1  0  1  2  3]\n",
      "DB Index (DBSCAN): 3.256663285554437\n"
     ]
    }
   ],
   "source": [
    "if len(np.unique(clusters_dbscan)) > 1:\n",
    "    db_index_dbscan = davies_bouldin_score(scaled_features, clusters_dbscan)\n",
    "else:\n",
    "    db_index_dbscan = \"Not computable because only 1 cluster\"\n",
    "\n",
    "print(f\"DBSCAN Clusters: {np.unique(clusters_dbscan)}\")\n",
    "print(f\"DB Index (DBSCAN): {db_index_dbscan}\")"
   ]
  },
  {
   "cell_type": "code",
   "execution_count": 228,
   "id": "12a3d3fa-ce20-43a7-b6ae-8d1f26fedeac",
   "metadata": {},
   "outputs": [
    {
     "data": {
      "text/plain": [
       "0.1771258029257783"
      ]
     },
     "execution_count": 228,
     "metadata": {},
     "output_type": "execute_result"
    }
   ],
   "source": [
    "silhouette_score(scaled_features, clusters_dbscan)"
   ]
  },
  {
   "cell_type": "code",
   "execution_count": 129,
   "id": "f6ef7fa8-a526-4485-ad8a-0c292a7b5fa5",
   "metadata": {},
   "outputs": [
    {
     "data": {
      "image/png": "[encoded data removed]",
      "text/plain": [
       "<Figure size 640x480 with 1 Axes>"
      ]
     },
     "metadata": {},
     "output_type": "display_data"
    }
   ],
   "source": [
    "plt.scatter(principal_components[:, 0], principal_components[:, 1], c=clusters_dbscan, cmap='viridis')\n",
    "plt.title('DBSCAN Clusters (PCA)')\n",
    "plt.show()"
   ]
  },
  {
   "cell_type": "code",
   "execution_count": 130,
   "id": "78ee9e67-5d7d-4c47-a991-1dff8d78d27a",
   "metadata": {},
   "outputs": [
    {
     "data": {
      "application/vnd.plotly.v1+json": {
       "config": {
        "plotlyServerURL": "https://plot.ly"
       },
       "data": [
        {
         "hovertemplate": "x=%{x}<br>y=%{y}<br>color=%{marker.color}<extra></extra>",
         "legendgroup": "",
         "marker": {
          "color": [
           0,
           1,
           0,
           0,
           1,
           0,
           1,
           3,
           2,
           2,
           0,
           0,
           0,
           -1,
           3,
           3,
           2,
           3,
           2,
           3,
           1,
           1,
           2,
           3,
           0,
           3,
           1,
           1,
           3,
           3,
           0,
           0,
           3,
           3,
           3,
           3,
           2,
           3,
           0,
           -1,
           2,
           3,
           1,
           2,
           1,
           3,
           3,
           0,
           3,
           3,
           2,
           0,
           2,
           1,
           3,
           1,
           2,
           3,
           3,
           2,
           2,
           2,
           2,
           2,
           -1,
           2,
           3,
           -1,
           2,
           2,
           0,
           3,
           -1,
           2,
           2,
           0,
           0,
           1,
           3,
           -1,
           2,
           0,
           0,
           1,
           0,
           2,
           0,
           1,
           2,
           1,
           0,
           1,
           1,
           3,
           0,
           0,
           1,
           3,
           -1,
           2,
           1,
           0,
           2,
           0,
           2,
           1,
           0,
           0,
           -1,
           -1,
           2,
           0,
           0,
           2,
           1,
           3,
           3,
           0,
           2,
           0,
           2,
           3,
           1,
           2,
           3,
           0,
           2,
           1,
           0,
           0,
           3,
           2,
           0,
           1,
           2,
           1,
           0,
           1,
           -1,
           1,
           -1,
           1,
           1,
           3,
           1,
           1,
           -1,
           0,
           2,
           0,
           0,
           0,
           0,
           3,
           0,
           -1,
           3,
           0,
           1,
           3,
           1,
           1,
           0,
           2,
           -1,
           2,
           2,
           0,
           0,
           2,
           0,
           2,
           1,
           0,
           1,
           3,
           1,
           1,
           2,
           -1,
           0,
           2,
           3,
           0,
           3,
           1,
           0,
           0,
           3,
           0,
           0,
           0,
           -1,
           3,
           0,
           2,
           2,
           2,
           2,
           1
          ],
          "coloraxis": "coloraxis",
          "opacity": 0.6,
          "symbol": "circle"
         },
         "mode": "markers",
         "name": "",
         "orientation": "v",
         "showlegend": false,
         "type": "scatter",
         "x": [
          0.1876224461361959,
          -1.1706847803250975,
          -0.8208850442476103,
          3.276436952374213,
          -1.8611259949730592,
          -0.22945018136946643,
          -1.8012011621895387,
          3.703833521205483,
          -2.6827955524991483,
          -1.0677460845397342,
          0.5919006991213875,
          2.019107013800793,
          2.462640761842436,
          -5.0106529231524135,
          -3.0139243763832164,
          0.152963399563655,
          2.712103396088535,
          0.632340196532155,
          0.24436529404036209,
          -4.280162927918563,
          2.614393495221403,
          0.9462070688942587,
          1.3658768012944122,
          1.2175060272036042,
          -1.5734685693432162,
          -0.5311541491620388,
          -0.7938385336135735,
          3.2301943915164295,
          -0.871964504761275,
          -0.04644847195221014,
          -1.0609932313248855,
          -2.2780968076770587,
          -4.416486736157731,
          0.8856164293431543,
          -1.004144142909307,
          -1.8451964573775514,
          0.1312764581586182,
          -0.019206353929693866,
          1.2331844034519186,
          -1.419874486106106,
          2.701815564986681,
          -1.6601591002309426,
          -2.433183084723085,
          -1.521121601148501,
          2.510770372445337,
          2.106306756733166,
          0.7991208382610103,
          0.3239248342968706,
          1.6610760504133921,
          -1.2474563043908038,
          2.0731102893781777,
          -1.404712253810441,
          1.4368035045979426,
          3.6403849237110726,
          -0.23930565524439845,
          0.08745595063623074,
          1.2335881285264894,
          -4.76479719458786,
          3.19311387256066,
          -4.379247295803355,
          -1.8068918243529273,
          -2.603189291100658,
          -2.8926880936880845,
          0.3363312369302397,
          4.966224079338939,
          -1.3595880358829497,
          0.9286604563659647,
          3.532926995666257,
          -0.25236388663023596,
          -0.6127215026514067,
          -2.140457961857179,
          0.036127171970886184,
          -2.37573701196702,
          -1.6901225558259168,
          4.14329557575583,
          -0.3513767111604501,
          -2.155737038965678,
          -3.4433369023955893,
          -0.49455488277398163,
          -4.252890975627929,
          0.6175840454671344,
          3.381883263142917,
          -2.2371141577241693,
          3.139555787099447,
          -1.6477616900029797,
          -0.0751575318407928,
          2.823341037784438,
          -0.3517877595969004,
          -2.20720056142842,
          1.3998525334716838,
          0.7451041761858973,
          -0.9095790260067654,
          2.819784471397609,
          -1.330643782088424,
          -2.783567170422471,
          1.3833855341799692,
          -4.931746298462608,
          1.9009528200691392,
          3.6212299567375186,
          0.8014246167412817,
          2.9300266733844818,
          2.9109419952473568,
          -0.8541021090622342,
          3.2417566454881777,
          1.0262964672302834,
          -0.08752442890291567,
          0.2496978885855422,
          1.818820976638618,
          5.308308260535316,
          -4.465462174368072,
          -0.17779491011076612,
          -1.93332688879652,
          2.756464607383593,
          0.9133321434433596,
          -1.2395007545761147,
          0.2698483596173353,
          -0.5852197575247685,
          0.7904541518064946,
          -1.0692415007720153,
          -1.6161444217362382,
          -1.7764490597990188,
          2.186579674427421,
          -2.836189593473333,
          1.5381952048994816,
          -0.8337030313125312,
          1.2857085209126564,
          0.17284736893663685,
          -3.77740476551014,
          -1.618338177292754,
          -4.135354235242483,
          -1.6333012925277703,
          -1.956127183587786,
          -0.6435486428393022,
          0.08337850843583483,
          -0.8864043353407863,
          1.246562625503567,
          0.13474159670514263,
          0.7447033464566465,
          1.9210686997587803,
          -2.633800227801637,
          5.865018169422838,
          -0.7868249061949207,
          2.3112414348231085,
          -3.180790399075849,
          2.7066244083349695,
          -1.0007496490240946,
          2.6531395726278637,
          1.0531096069608437,
          0.24919568995149885,
          -4.1127578522604065,
          -3.7032736010977847,
          -0.1291073284644795,
          1.4352075064054313,
          0.4129116830243005,
          2.345873625981666,
          5.849739162821312,
          -0.5000159901177882,
          -0.7492453256370532,
          -1.7534359676144355,
          -0.24094671711887417,
          1.6207069702943713,
          2.6324116507386246,
          1.4142054412601972,
          -0.37458456791047257,
          4.294931280134981,
          -1.0742413865441904,
          -1.9148927907340263,
          0.2359335527524623,
          1.698181466984837,
          0.38045551122161436,
          1.0140537389063973,
          -0.09572918448733869,
          2.722260935479116,
          0.17035066539936564,
          4.680180827110545,
          -1.6109383078242996,
          -1.0701613478077403,
          -0.9465009187428826,
          0.5268079564450451,
          -4.776623247317747,
          0.9842140578031366,
          0.09759925694312788,
          0.29184434525465835,
          0.8824975512622314,
          -1.4062913259292986,
          -1.9553957836823879,
          0.26561735577659606,
          3.54990160585295,
          -0.1734008005139702,
          0.24594701708730304,
          0.15407244719250424,
          -1.3078821953033515,
          -1.109373958592267,
          1.3803313319878854,
          1.0844073655335018,
          -0.19593874293248545,
          -1.6685941027943945,
          -3.1672398754129576,
          -1.3569152253760228,
          0.7850770955809061
         ],
         "xaxis": "x",
         "y": [
          -1.726368494523686,
          0.2568309016023276,
          -0.8096104563682653,
          -1.770706714246934,
          -0.06872574120494399,
          -1.6561385629361984,
          -0.23812566056883377,
          2.544439412162575,
          0.3493624255162305,
          -0.02496190537054958,
          -1.9017506251785121,
          -1.1220956479684647,
          -0.623883712379477,
          0.4802103092338407,
          1.3700240613053798,
          1.7108713466332657,
          -0.060724449728662186,
          1.4683958428260397,
          -0.585986409206826,
          1.6301533189856596,
          0.3155951163021985,
          0.8423204787774884,
          -1.3429126881908093,
          2.0900901663111697,
          -1.3360163713497875,
          1.6980411231942445,
          -0.01145673670329304,
          0.7051962746429258,
          1.2375858119898437,
          2.109945823199976,
          -0.6836848452881688,
          -0.6385211829938776,
          2.3682009191829665,
          2.2782282861061827,
          1.8339604257338094,
          1.7508189647531585,
          -0.884546990653233,
          0.7790537959155064,
          -0.6515495488789108,
          -0.5574417220294469,
          -0.49963650444348895,
          1.1812707297877998,
          0.435086530498971,
          -0.39491519952624576,
          -0.059620710678773434,
          2.0274312240441494,
          1.8690634788545208,
          -0.817826886564941,
          3.2222996916671525,
          1.080135783306711,
          -0.08794150669230036,
          -1.132007911360319,
          -0.6860969883374967,
          0.9382078404053708,
          2.1869077494324896,
          0.9971480576759626,
          -0.0244452332281395,
          2.0918293175916514,
          1.774929465551003,
          -0.4268090816892327,
          -0.4908564116434423,
          -0.12211774292587732,
          -0.5329560485437141,
          -0.7648712626252107,
          1.649403616064736,
          -0.21556830171896024,
          1.7251482237808424,
          1.082313094162217,
          0.054148021792516224,
          -1.3806320254553444,
          -1.8113043559216038,
          2.313019935703927,
          -0.8181290899475283,
          -1.0861827210655095,
          -0.28058916515351373,
          -0.803680927003079,
          -0.7390694502052384,
          0.14749830477429265,
          0.5009357967268061,
          0.2931097457447043,
          0.02861146903343233,
          -2.2215889105733946,
          -1.3367311076041646,
          1.4226231156581834,
          -1.2143968669148903,
          -0.48138879647562804,
          -1.3077042163292836,
          0.7538330136355612,
          -0.8132100845900619,
          0.7145600467127531,
          -0.8319094114573288,
          0.9650445624356143,
          1.7157239382461504,
          1.7309578494362585,
          -1.517859310752091,
          -1.9407407734264746,
          1.0324718938080202,
          2.829607203581938,
          -1.0133254317599187,
          -0.407766064316065,
          0.49161969925682136,
          -1.3764979994193876,
          -0.3334568866481906,
          -1.8945189314438882,
          0.47503203182961423,
          0.47480194436355916,
          -1.2737819523656675,
          -1.2509284320842327,
          2.1271885578087164,
          0.6819347085072073,
          0.7158069290755508,
          -1.7547746063261627,
          -1.5245584936934404,
          -0.1701660973058723,
          0.24031271776480087,
          2.128771130946943,
          1.6927095760668112,
          -1.7986390215742358,
          0.2015782314877148,
          -1.5821118418115505,
          -0.09582590662669008,
          0.9170075929172508,
          0.11906889836053966,
          0.45397555308168686,
          0.9041222372561603,
          -1.4931636554979415,
          0.23479749416469692,
          0.5992886496359875,
          -1.0021774287902279,
          -1.3536825784894335,
          0.5429907505398701,
          -0.7629260253220363,
          -1.2414086011489536,
          0.4105250375424596,
          -0.9239174875839761,
          0.40411634798831747,
          -1.4423964261398217,
          0.3366325439109168,
          0.8505112094079453,
          -0.05316738331464031,
          -0.27649667526783905,
          0.31836664633813744,
          0.8965384020047579,
          2.107948128231225,
          0.7677119003258395,
          0.6636528642489273,
          -1.2904331155888025,
          -1.8739198417503669,
          -0.26656061609407655,
          -1.4596743066040643,
          -0.6361461472184927,
          -1.8451136436057107,
          -2.08049815727856,
          2.211035735479663,
          -1.5823136905123798,
          1.8805152855718394,
          1.8738395810847301,
          -1.4608384067538693,
          -0.028779075277703497,
          0.8505727484503423,
          0.43247014501895725,
          0.26319377192092547,
          -1.5052499708127065,
          -0.21668747162011992,
          -1.718436749852812,
          -0.6309114416020302,
          -0.25152046827476837,
          -2.431435143401963,
          -1.379587061894508,
          -0.45952538126649123,
          -2.613760135616549,
          0.34828300577746163,
          0.3690847443969804,
          -1.8845306340803976,
          0.37647251686347527,
          0.9598448686888282,
          0.455630742532266,
          0.4150670158657517,
          -0.34759296585020616,
          0.6720769649558395,
          -0.9105095098208973,
          0.18984586522318198,
          1.7358554452811565,
          -1.0989503275906474,
          1.0186778612740435,
          0.34474160632753775,
          -1.2248935390421976,
          -1.7978601241263426,
          1.8033669492207987,
          -0.8085822617822714,
          -1.3210028848823603,
          -1.3347483442846386,
          -0.35128644036651313,
          1.9888728759905372,
          -0.39260817191254077,
          -1.4746704942103988,
          -0.5171697360405122,
          -0.6288072888029069,
          -0.3254329338564337,
          0.1826178597522763
         ],
         "yaxis": "y"
        }
       ],
       "layout": {
        "coloraxis": {
         "colorbar": {
          "title": {
           "text": "Cluster"
          }
         },
         "colorscale": [
          [
           0,
           "#440154"
          ],
          [
           0.1111111111111111,
           "#482878"
          ],
          [
           0.2222222222222222,
           "#3e4989"
          ],
          [
           0.3333333333333333,
           "#31688e"
          ],
          [
           0.4444444444444444,
           "#26828e"
          ],
          [
           0.5555555555555556,
           "#1f9e89"
          ],
          [
           0.6666666666666666,
           "#35b779"
          ],
          [
           0.7777777777777778,
           "#6ece58"
          ],
          [
           0.8888888888888888,
           "#b5de2b"
          ],
          [
           1,
           "#fde725"
          ]
         ]
        },
        "height": 600,
        "legend": {
         "tracegroupgap": 0
        },
        "template": {
         "data": {
          "bar": [
           {
            "error_x": {
             "color": "#2a3f5f"
            },
            "error_y": {
             "color": "#2a3f5f"
            },
            "marker": {
             "line": {
              "color": "#E5ECF6",
              "width": 0.5
             },
             "pattern": {
              "fillmode": "overlay",
              "size": 10,
              "solidity": 0.2
             }
            },
            "type": "bar"
           }
          ],
          "barpolar": [
           {
            "marker": {
             "line": {
              "color": "#E5ECF6",
              "width": 0.5
             },
             "pattern": {
              "fillmode": "overlay",
              "size": 10,
              "solidity": 0.2
             }
            },
            "type": "barpolar"
           }
          ],
          "carpet": [
           {
            "aaxis": {
             "endlinecolor": "#2a3f5f",
             "gridcolor": "white",
             "linecolor": "white",
             "minorgridcolor": "white",
             "startlinecolor": "#2a3f5f"
            },
            "baxis": {
             "endlinecolor": "#2a3f5f",
             "gridcolor": "white",
             "linecolor": "white",
             "minorgridcolor": "white",
             "startlinecolor": "#2a3f5f"
            },
            "type": "carpet"
           }
          ],
          "choropleth": [
           {
            "colorbar": {
             "outlinewidth": 0,
             "ticks": ""
            },
            "type": "choropleth"
           }
          ],
          "contour": [
           {
            "colorbar": {
             "outlinewidth": 0,
             "ticks": ""
            },
            "colorscale": [
             [
              0,
              "#0d0887"
             ],
             [
              0.1111111111111111,
              "#46039f"
             ],
             [
              0.2222222222222222,
              "#7201a8"
             ],
             [
              0.3333333333333333,
              "#9c179e"
             ],
             [
              0.4444444444444444,
              "#bd3786"
             ],
             [
              0.5555555555555556,
              "#d8576b"
             ],
             [
              0.6666666666666666,
              "#ed7953"
             ],
             [
              0.7777777777777778,
              "#fb9f3a"
             ],
             [
              0.8888888888888888,
              "#fdca26"
             ],
             [
              1,
              "#f0f921"
             ]
            ],
            "type": "contour"
           }
          ],
          "contourcarpet": [
           {
            "colorbar": {
             "outlinewidth": 0,
             "ticks": ""
            },
            "type": "contourcarpet"
           }
          ],
          "heatmap": [
           {
            "colorbar": {
             "outlinewidth": 0,
             "ticks": ""
            },
            "colorscale": [
             [
              0,
              "#0d0887"
             ],
             [
              0.1111111111111111,
              "#46039f"
             ],
             [
              0.2222222222222222,
              "#7201a8"
             ],
             [
              0.3333333333333333,
              "#9c179e"
             ],
             [
              0.4444444444444444,
              "#bd3786"
             ],
             [
              0.5555555555555556,
              "#d8576b"
             ],
             [
              0.6666666666666666,
              "#ed7953"
             ],
             [
              0.7777777777777778,
              "#fb9f3a"
             ],
             [
              0.8888888888888888,
              "#fdca26"
             ],
             [
              1,
              "#f0f921"
             ]
            ],
            "type": "heatmap"
           }
          ],
          "heatmapgl": [
           {
            "colorbar": {
             "outlinewidth": 0,
             "ticks": ""
            },
            "colorscale": [
             [
              0,
              "#0d0887"
             ],
             [
              0.1111111111111111,
              "#46039f"
             ],
             [
              0.2222222222222222,
              "#7201a8"
             ],
             [
              0.3333333333333333,
              "#9c179e"
             ],
             [
              0.4444444444444444,
              "#bd3786"
             ],
             [
              0.5555555555555556,
              "#d8576b"
             ],
             [
              0.6666666666666666,
              "#ed7953"
             ],
             [
              0.7777777777777778,
              "#fb9f3a"
             ],
             [
              0.8888888888888888,
              "#fdca26"
             ],
             [
              1,
              "#f0f921"
             ]
            ],
            "type": "heatmapgl"
           }
          ],
          "histogram": [
           {
            "marker": {
             "pattern": {
              "fillmode": "overlay",
              "size": 10,
              "solidity": 0.2
             }
            },
            "type": "histogram"
           }
          ],
          "histogram2d": [
           {
            "colorbar": {
             "outlinewidth": 0,
             "ticks": ""
            },
            "colorscale": [
             [
              0,
              "#0d0887"
             ],
             [
              0.1111111111111111,
              "#46039f"
             ],
             [
              0.2222222222222222,
              "#7201a8"
             ],
             [
              0.3333333333333333,
              "#9c179e"
             ],
             [
              0.4444444444444444,
              "#bd3786"
             ],
             [
              0.5555555555555556,
              "#d8576b"
             ],
             [
              0.6666666666666666,
              "#ed7953"
             ],
             [
              0.7777777777777778,
              "#fb9f3a"
             ],
             [
              0.8888888888888888,
              "#fdca26"
             ],
             [
              1,
              "#f0f921"
             ]
            ],
            "type": "histogram2d"
           }
          ],
          "histogram2dcontour": [
           {
            "colorbar": {
             "outlinewidth": 0,
             "ticks": ""
            },
            "colorscale": [
             [
              0,
              "#0d0887"
             ],
             [
              0.1111111111111111,
              "#46039f"
             ],
             [
              0.2222222222222222,
              "#7201a8"
             ],
             [
              0.3333333333333333,
              "#9c179e"
             ],
             [
              0.4444444444444444,
              "#bd3786"
             ],
             [
              0.5555555555555556,
              "#d8576b"
             ],
             [
              0.6666666666666666,
              "#ed7953"
             ],
             [
              0.7777777777777778,
              "#fb9f3a"
             ],
             [
              0.8888888888888888,
              "#fdca26"
             ],
             [
              1,
              "#f0f921"
             ]
            ],
            "type": "histogram2dcontour"
           }
          ],
          "mesh3d": [
           {
            "colorbar": {
             "outlinewidth": 0,
             "ticks": ""
            },
            "type": "mesh3d"
           }
          ],
          "parcoords": [
           {
            "line": {
             "colorbar": {
              "outlinewidth": 0,
              "ticks": ""
             }
            },
            "type": "parcoords"
           }
          ],
          "pie": [
           {
            "automargin": true,
            "type": "pie"
           }
          ],
          "scatter": [
           {
            "fillpattern": {
             "fillmode": "overlay",
             "size": 10,
             "solidity": 0.2
            },
            "type": "scatter"
           }
          ],
          "scatter3d": [
           {
            "line": {
             "colorbar": {
              "outlinewidth": 0,
              "ticks": ""
             }
            },
            "marker": {
             "colorbar": {
              "outlinewidth": 0,
              "ticks": ""
             }
            },
            "type": "scatter3d"
           }
          ],
          "scattercarpet": [
           {
            "marker": {
             "colorbar": {
              "outlinewidth": 0,
              "ticks": ""
             }
            },
            "type": "scattercarpet"
           }
          ],
          "scattergeo": [
           {
            "marker": {
             "colorbar": {
              "outlinewidth": 0,
              "ticks": ""
             }
            },
            "type": "scattergeo"
           }
          ],
          "scattergl": [
           {
            "marker": {
             "colorbar": {
              "outlinewidth": 0,
              "ticks": ""
             }
            },
            "type": "scattergl"
           }
          ],
          "scattermapbox": [
           {
            "marker": {
             "colorbar": {
              "outlinewidth": 0,
              "ticks": ""
             }
            },
            "type": "scattermapbox"
           }
          ],
          "scatterpolar": [
           {
            "marker": {
             "colorbar": {
              "outlinewidth": 0,
              "ticks": ""
             }
            },
            "type": "scatterpolar"
           }
          ],
          "scatterpolargl": [
           {
            "marker": {
             "colorbar": {
              "outlinewidth": 0,
              "ticks": ""
             }
            },
            "type": "scatterpolargl"
           }
          ],
          "scatterternary": [
           {
            "marker": {
             "colorbar": {
              "outlinewidth": 0,
              "ticks": ""
             }
            },
            "type": "scatterternary"
           }
          ],
          "surface": [
           {
            "colorbar": {
             "outlinewidth": 0,
             "ticks": ""
            },
            "colorscale": [
             [
              0,
              "#0d0887"
             ],
             [
              0.1111111111111111,
              "#46039f"
             ],
             [
              0.2222222222222222,
              "#7201a8"
             ],
             [
              0.3333333333333333,
              "#9c179e"
             ],
             [
              0.4444444444444444,
              "#bd3786"
             ],
             [
              0.5555555555555556,
              "#d8576b"
             ],
             [
              0.6666666666666666,
              "#ed7953"
             ],
             [
              0.7777777777777778,
              "#fb9f3a"
             ],
             [
              0.8888888888888888,
              "#fdca26"
             ],
             [
              1,
              "#f0f921"
             ]
            ],
            "type": "surface"
           }
          ],
          "table": [
           {
            "cells": {
             "fill": {
              "color": "#EBF0F8"
             },
             "line": {
              "color": "white"
             }
            },
            "header": {
             "fill": {
              "color": "#C8D4E3"
             },
             "line": {
              "color": "white"
             }
            },
            "type": "table"
           }
          ]
         },
         "layout": {
          "annotationdefaults": {
           "arrowcolor": "#2a3f5f",
           "arrowhead": 0,
           "arrowwidth": 1
          },
          "autotypenumbers": "strict",
          "coloraxis": {
           "colorbar": {
            "outlinewidth": 0,
            "ticks": ""
           }
          },
          "colorscale": {
           "diverging": [
            [
             0,
             "#8e0152"
            ],
            [
             0.1,
             "#c51b7d"
            ],
            [
             0.2,
             "#de77ae"
            ],
            [
             0.3,
             "#f1b6da"
            ],
            [
             0.4,
             "#fde0ef"
            ],
            [
             0.5,
             "#f7f7f7"
            ],
            [
             0.6,
             "#e6f5d0"
            ],
            [
             0.7,
             "#b8e186"
            ],
            [
             0.8,
             "#7fbc41"
            ],
            [
             0.9,
             "#4d9221"
            ],
            [
             1,
             "#276419"
            ]
           ],
           "sequential": [
            [
             0,
             "#0d0887"
            ],
            [
             0.1111111111111111,
             "#46039f"
            ],
            [
             0.2222222222222222,
             "#7201a8"
            ],
            [
             0.3333333333333333,
             "#9c179e"
            ],
            [
             0.4444444444444444,
             "#bd3786"
            ],
            [
             0.5555555555555556,
             "#d8576b"
            ],
            [
             0.6666666666666666,
             "#ed7953"
            ],
            [
             0.7777777777777778,
             "#fb9f3a"
            ],
            [
             0.8888888888888888,
             "#fdca26"
            ],
            [
             1,
             "#f0f921"
            ]
           ],
           "sequentialminus": [
            [
             0,
             "#0d0887"
            ],
            [
             0.1111111111111111,
             "#46039f"
            ],
            [
             0.2222222222222222,
             "#7201a8"
            ],
            [
             0.3333333333333333,
             "#9c179e"
            ],
            [
             0.4444444444444444,
             "#bd3786"
            ],
            [
             0.5555555555555556,
             "#d8576b"
            ],
            [
             0.6666666666666666,
             "#ed7953"
            ],
            [
             0.7777777777777778,
             "#fb9f3a"
            ],
            [
             0.8888888888888888,
             "#fdca26"
            ],
            [
             1,
             "#f0f921"
            ]
           ]
          },
          "colorway": [
           "#636efa",
           "#EF553B",
           "#00cc96",
           "#ab63fa",
           "#FFA15A",
           "#19d3f3",
           "#FF6692",
           "#B6E880",
           "#FF97FF",
           "#FECB52"
          ],
          "font": {
           "color": "#2a3f5f"
          },
          "geo": {
           "bgcolor": "white",
           "lakecolor": "white",
           "landcolor": "#E5ECF6",
           "showlakes": true,
           "showland": true,
           "subunitcolor": "white"
          },
          "hoverlabel": {
           "align": "left"
          },
          "hovermode": "closest",
          "mapbox": {
           "style": "light"
          },
          "paper_bgcolor": "white",
          "plot_bgcolor": "#E5ECF6",
          "polar": {
           "angularaxis": {
            "gridcolor": "white",
            "linecolor": "white",
            "ticks": ""
           },
           "bgcolor": "#E5ECF6",
           "radialaxis": {
            "gridcolor": "white",
            "linecolor": "white",
            "ticks": ""
           }
          },
          "scene": {
           "xaxis": {
            "backgroundcolor": "#E5ECF6",
            "gridcolor": "white",
            "gridwidth": 2,
            "linecolor": "white",
            "showbackground": true,
            "ticks": "",
            "zerolinecolor": "white"
           },
           "yaxis": {
            "backgroundcolor": "#E5ECF6",
            "gridcolor": "white",
            "gridwidth": 2,
            "linecolor": "white",
            "showbackground": true,
            "ticks": "",
            "zerolinecolor": "white"
           },
           "zaxis": {
            "backgroundcolor": "#E5ECF6",
            "gridcolor": "white",
            "gridwidth": 2,
            "linecolor": "white",
            "showbackground": true,
            "ticks": "",
            "zerolinecolor": "white"
           }
          },
          "shapedefaults": {
           "line": {
            "color": "#2a3f5f"
           }
          },
          "ternary": {
           "aaxis": {
            "gridcolor": "white",
            "linecolor": "white",
            "ticks": ""
           },
           "baxis": {
            "gridcolor": "white",
            "linecolor": "white",
            "ticks": ""
           },
           "bgcolor": "#E5ECF6",
           "caxis": {
            "gridcolor": "white",
            "linecolor": "white",
            "ticks": ""
           }
          },
          "title": {
           "x": 0.05
          },
          "xaxis": {
           "automargin": true,
           "gridcolor": "white",
           "linecolor": "white",
           "ticks": "",
           "title": {
            "standoff": 15
           },
           "zerolinecolor": "white",
           "zerolinewidth": 2
          },
          "yaxis": {
           "automargin": true,
           "gridcolor": "white",
           "linecolor": "white",
           "ticks": "",
           "title": {
            "standoff": 15
           },
           "zerolinecolor": "white",
           "zerolinewidth": 2
          }
         }
        },
        "title": {
         "text": "Customer Clusters Visualized with PCA"
        },
        "width": 1000,
        "xaxis": {
         "anchor": "y",
         "autorange": true,
         "domain": [
          0,
          1
         ],
         "range": [
          -5.677507634829052,
          6.531872881099476
         ],
         "title": {
          "text": "Principal Component 1"
         },
         "type": "linear"
        },
        "yaxis": {
         "anchor": "x",
         "autorange": true,
         "domain": [
          0,
          1
         ],
         "range": [
          -3.0036183831881327,
          3.612157939238736
         ],
         "title": {
          "text": "Principal Component 2"
         },
         "type": "linear"
        }
       }
      },
      "image/png": "[encoded data removed]",
      "text/html": [
       "<div>                            <div id=\"633e671c-53a8-4224-9680-39cd8ac6ceee\" class=\"plotly-graph-div\" style=\"height:600px; width:1000px;\"></div>            <script type=\"text/javascript\">                require([\"plotly\"], function(Plotly) {                    window.PLOTLYENV=window.PLOTLYENV || {};                                    if (document.getElementById(\"633e671c-53a8-4224-9680-39cd8ac6ceee\")) {                    Plotly.newPlot(                        \"633e671c-53a8-4224-9680-39cd8ac6ceee\",                        [{\"hovertemplate\":\"x=%{x}\\u003cbr\\u003ey=%{y}\\u003cbr\\u003ecolor=%{marker.color}\\u003cextra\\u003e\\u003c\\u002fextra\\u003e\",\"legendgroup\":\"\",\"marker\":{\"color\":[0,1,0,0,1,0,1,3,2,2,0,0,0,-1,3,3,2,3,2,3,1,1,2,3,0,3,1,1,3,3,0,0,3,3,3,3,2,3,0,-1,2,3,1,2,1,3,3,0,3,3,2,0,2,1,3,1,2,3,3,2,2,2,2,2,-1,2,3,-1,2,2,0,3,-1,2,2,0,0,1,3,-1,2,0,0,1,0,2,0,1,2,1,0,1,1,3,0,0,1,3,-1,2,1,0,2,0,2,1,0,0,-1,-1,2,0,0,2,1,3,3,0,2,0,2,3,1,2,3,0,2,1,0,0,3,2,0,1,2,1,0,1,-1,1,-1,1,1,3,1,1,-1,0,2,0,0,0,0,3,0,-1,3,0,1,3,1,1,0,2,-1,2,2,0,0,2,0,2,1,0,1,3,1,1,2,-1,0,2,3,0,3,1,0,0,3,0,0,0,-1,3,0,2,2,2,2,1],\"coloraxis\":\"coloraxis\",\"opacity\":0.6,\"symbol\":\"circle\"},\"mode\":\"markers\",\"name\":\"\",\"orientation\":\"v\",\"showlegend\":false,\"x\":[0.1876224461361959,-1.1706847803250975,-0.8208850442476103,3.276436952374213,-1.8611259949730592,-0.22945018136946643,-1.8012011621895387,3.703833521205483,-2.6827955524991483,-1.0677460845397342,0.5919006991213875,2.019107013800793,2.462640761842436,-5.0106529231524135,-3.0139243763832164,0.152963399563655,2.712103396088535,0.632340196532155,0.24436529404036209,-4.280162927918563,2.614393495221403,0.9462070688942587,1.3658768012944122,1.2175060272036042,-1.5734685693432162,-0.5311541491620388,-0.7938385336135735,3.2301943915164295,-0.871964504761275,-0.04644847195221014,-1.0609932313248855,-2.2780968076770587,-4.416486736157731,0.8856164293431543,-1.004144142909307,-1.8451964573775514,0.1312764581586182,-0.019206353929693866,1.2331844034519186,-1.419874486106106,2.701815564986681,-1.6601591002309426,-2.433183084723085,-1.521121601148501,2.510770372445337,2.106306756733166,0.7991208382610103,0.3239248342968706,1.6610760504133921,-1.2474563043908038,2.0731102893781777,-1.404712253810441,1.4368035045979426,3.6403849237110726,-0.23930565524439845,0.08745595063623074,1.2335881285264894,-4.76479719458786,3.19311387256066,-4.379247295803355,-1.8068918243529273,-2.603189291100658,-2.8926880936880845,0.3363312369302397,4.966224079338939,-1.3595880358829497,0.9286604563659647,3.532926995666257,-0.25236388663023596,-0.6127215026514067,-2.140457961857179,0.036127171970886184,-2.37573701196702,-1.6901225558259168,4.14329557575583,-0.3513767111604501,-2.155737038965678,-3.4433369023955893,-0.49455488277398163,-4.252890975627929,0.6175840454671344,3.381883263142917,-2.2371141577241693,3.139555787099447,-1.6477616900029797,-0.0751575318407928,2.823341037784438,-0.3517877595969004,-2.20720056142842,1.3998525334716838,0.7451041761858973,-0.9095790260067654,2.819784471397609,-1.330643782088424,-2.783567170422471,1.3833855341799692,-4.931746298462608,1.9009528200691392,3.6212299567375186,0.8014246167412817,2.9300266733844818,2.9109419952473568,-0.8541021090622342,3.2417566454881777,1.0262964672302834,-0.08752442890291567,0.2496978885855422,1.818820976638618,5.308308260535316,-4.465462174368072,-0.17779491011076612,-1.93332688879652,2.756464607383593,0.9133321434433596,-1.2395007545761147,0.2698483596173353,-0.5852197575247685,0.7904541518064946,-1.0692415007720153,-1.6161444217362382,-1.7764490597990188,2.186579674427421,-2.836189593473333,1.5381952048994816,-0.8337030313125312,1.2857085209126564,0.17284736893663685,-3.77740476551014,-1.618338177292754,-4.135354235242483,-1.6333012925277703,-1.956127183587786,-0.6435486428393022,0.08337850843583483,-0.8864043353407863,1.246562625503567,0.13474159670514263,0.7447033464566465,1.9210686997587803,-2.633800227801637,5.865018169422838,-0.7868249061949207,2.3112414348231085,-3.180790399075849,2.7066244083349695,-1.0007496490240946,2.6531395726278637,1.0531096069608437,0.24919568995149885,-4.1127578522604065,-3.7032736010977847,-0.1291073284644795,1.4352075064054313,0.4129116830243005,2.345873625981666,5.849739162821312,-0.5000159901177882,-0.7492453256370532,-1.7534359676144355,-0.24094671711887417,1.6207069702943713,2.6324116507386246,1.4142054412601972,-0.37458456791047257,4.294931280134981,-1.0742413865441904,-1.9148927907340263,0.2359335527524623,1.698181466984837,0.38045551122161436,1.0140537389063973,-0.09572918448733869,2.722260935479116,0.17035066539936564,4.680180827110545,-1.6109383078242996,-1.0701613478077403,-0.9465009187428826,0.5268079564450451,-4.776623247317747,0.9842140578031366,0.09759925694312788,0.29184434525465835,0.8824975512622314,-1.4062913259292986,-1.9553957836823879,0.26561735577659606,3.54990160585295,-0.1734008005139702,0.24594701708730304,0.15407244719250424,-1.3078821953033515,-1.109373958592267,1.3803313319878854,1.0844073655335018,-0.19593874293248545,-1.6685941027943945,-3.1672398754129576,-1.3569152253760228,0.7850770955809061],\"xaxis\":\"x\",\"y\":[-1.726368494523686,0.2568309016023276,-0.8096104563682653,-1.770706714246934,-0.06872574120494399,-1.6561385629361984,-0.23812566056883377,2.544439412162575,0.3493624255162305,-0.02496190537054958,-1.9017506251785121,-1.1220956479684647,-0.623883712379477,0.4802103092338407,1.3700240613053798,1.7108713466332657,-0.060724449728662186,1.4683958428260397,-0.585986409206826,1.6301533189856596,0.3155951163021985,0.8423204787774884,-1.3429126881908093,2.0900901663111697,-1.3360163713497875,1.6980411231942445,-0.01145673670329304,0.7051962746429258,1.2375858119898437,2.109945823199976,-0.6836848452881688,-0.6385211829938776,2.3682009191829665,2.2782282861061827,1.8339604257338094,1.7508189647531585,-0.884546990653233,0.7790537959155064,-0.6515495488789108,-0.5574417220294469,-0.49963650444348895,1.1812707297877998,0.435086530498971,-0.39491519952624576,-0.059620710678773434,2.0274312240441494,1.8690634788545208,-0.817826886564941,3.2222996916671525,1.080135783306711,-0.08794150669230036,-1.132007911360319,-0.6860969883374967,0.9382078404053708,2.1869077494324896,0.9971480576759626,-0.0244452332281395,2.0918293175916514,1.774929465551003,-0.4268090816892327,-0.4908564116434423,-0.12211774292587732,-0.5329560485437141,-0.7648712626252107,1.649403616064736,-0.21556830171896024,1.7251482237808424,1.082313094162217,0.054148021792516224,-1.3806320254553444,-1.8113043559216038,2.313019935703927,-0.8181290899475283,-1.0861827210655095,-0.28058916515351373,-0.803680927003079,-0.7390694502052384,0.14749830477429265,0.5009357967268061,0.2931097457447043,0.02861146903343233,-2.2215889105733946,-1.3367311076041646,1.4226231156581834,-1.2143968669148903,-0.48138879647562804,-1.3077042163292836,0.7538330136355612,-0.8132100845900619,0.7145600467127531,-0.8319094114573288,0.9650445624356143,1.7157239382461504,1.7309578494362585,-1.517859310752091,-1.9407407734264746,1.0324718938080202,2.829607203581938,-1.0133254317599187,-0.407766064316065,0.49161969925682136,-1.3764979994193876,-0.3334568866481906,-1.8945189314438882,0.47503203182961423,0.47480194436355916,-1.2737819523656675,-1.2509284320842327,2.1271885578087164,0.6819347085072073,0.7158069290755508,-1.7547746063261627,-1.5245584936934404,-0.1701660973058723,0.24031271776480087,2.128771130946943,1.6927095760668112,-1.7986390215742358,0.2015782314877148,-1.5821118418115505,-0.09582590662669008,0.9170075929172508,0.11906889836053966,0.45397555308168686,0.9041222372561603,-1.4931636554979415,0.23479749416469692,0.5992886496359875,-1.0021774287902279,-1.3536825784894335,0.5429907505398701,-0.7629260253220363,-1.2414086011489536,0.4105250375424596,-0.9239174875839761,0.40411634798831747,-1.4423964261398217,0.3366325439109168,0.8505112094079453,-0.05316738331464031,-0.27649667526783905,0.31836664633813744,0.8965384020047579,2.107948128231225,0.7677119003258395,0.6636528642489273,-1.2904331155888025,-1.8739198417503669,-0.26656061609407655,-1.4596743066040643,-0.6361461472184927,-1.8451136436057107,-2.08049815727856,2.211035735479663,-1.5823136905123798,1.8805152855718394,1.8738395810847301,-1.4608384067538693,-0.028779075277703497,0.8505727484503423,0.43247014501895725,0.26319377192092547,-1.5052499708127065,-0.21668747162011992,-1.718436749852812,-0.6309114416020302,-0.25152046827476837,-2.431435143401963,-1.379587061894508,-0.45952538126649123,-2.613760135616549,0.34828300577746163,0.3690847443969804,-1.8845306340803976,0.37647251686347527,0.9598448686888282,0.455630742532266,0.4150670158657517,-0.34759296585020616,0.6720769649558395,-0.9105095098208973,0.18984586522318198,1.7358554452811565,-1.0989503275906474,1.0186778612740435,0.34474160632753775,-1.2248935390421976,-1.7978601241263426,1.8033669492207987,-0.8085822617822714,-1.3210028848823603,-1.3347483442846386,-0.35128644036651313,1.9888728759905372,-0.39260817191254077,-1.4746704942103988,-0.5171697360405122,-0.6288072888029069,-0.3254329338564337,0.1826178597522763],\"yaxis\":\"y\",\"type\":\"scatter\"}],                        {\"template\":{\"data\":{\"histogram2dcontour\":[{\"type\":\"histogram2dcontour\",\"colorbar\":{\"outlinewidth\":0,\"ticks\":\"\"},\"colorscale\":[[0.0,\"#0d0887\"],[0.1111111111111111,\"#46039f\"],[0.2222222222222222,\"#7201a8\"],[0.3333333333333333,\"#9c179e\"],[0.4444444444444444,\"#bd3786\"],[0.5555555555555556,\"#d8576b\"],[0.6666666666666666,\"#ed7953\"],[0.7777777777777778,\"#fb9f3a\"],[0.8888888888888888,\"#fdca26\"],[1.0,\"#f0f921\"]]}],\"choropleth\":[{\"type\":\"choropleth\",\"colorbar\":{\"outlinewidth\":0,\"ticks\":\"\"}}],\"histogram2d\":[{\"type\":\"histogram2d\",\"colorbar\":{\"outlinewidth\":0,\"ticks\":\"\"},\"colorscale\":[[0.0,\"#0d0887\"],[0.1111111111111111,\"#46039f\"],[0.2222222222222222,\"#7201a8\"],[0.3333333333333333,\"#9c179e\"],[0.4444444444444444,\"#bd3786\"],[0.5555555555555556,\"#d8576b\"],[0.6666666666666666,\"#ed7953\"],[0.7777777777777778,\"#fb9f3a\"],[0.8888888888888888,\"#fdca26\"],[1.0,\"#f0f921\"]]}],\"heatmap\":[{\"type\":\"heatmap\",\"colorbar\":{\"outlinewidth\":0,\"ticks\":\"\"},\"colorscale\":[[0.0,\"#0d0887\"],[0.1111111111111111,\"#46039f\"],[0.2222222222222222,\"#7201a8\"],[0.3333333333333333,\"#9c179e\"],[0.4444444444444444,\"#bd3786\"],[0.5555555555555556,\"#d8576b\"],[0.6666666666666666,\"#ed7953\"],[0.7777777777777778,\"#fb9f3a\"],[0.8888888888888888,\"#fdca26\"],[1.0,\"#f0f921\"]]}],\"heatmapgl\":[{\"type\":\"heatmapgl\",\"colorbar\":{\"outlinewidth\":0,\"ticks\":\"\"},\"colorscale\":[[0.0,\"#0d0887\"],[0.1111111111111111,\"#46039f\"],[0.2222222222222222,\"#7201a8\"],[0.3333333333333333,\"#9c179e\"],[0.4444444444444444,\"#bd3786\"],[0.5555555555555556,\"#d8576b\"],[0.6666666666666666,\"#ed7953\"],[0.7777777777777778,\"#fb9f3a\"],[0.8888888888888888,\"#fdca26\"],[1.0,\"#f0f921\"]]}],\"contourcarpet\":[{\"type\":\"contourcarpet\",\"colorbar\":{\"outlinewidth\":0,\"ticks\":\"\"}}],\"contour\":[{\"type\":\"contour\",\"colorbar\":{\"outlinewidth\":0,\"ticks\":\"\"},\"colorscale\":[[0.0,\"#0d0887\"],[0.1111111111111111,\"#46039f\"],[0.2222222222222222,\"#7201a8\"],[0.3333333333333333,\"#9c179e\"],[0.4444444444444444,\"#bd3786\"],[0.5555555555555556,\"#d8576b\"],[0.6666666666666666,\"#ed7953\"],[0.7777777777777778,\"#fb9f3a\"],[0.8888888888888888,\"#fdca26\"],[1.0,\"#f0f921\"]]}],\"surface\":[{\"type\":\"surface\",\"colorbar\":{\"outlinewidth\":0,\"ticks\":\"\"},\"colorscale\":[[0.0,\"#0d0887\"],[0.1111111111111111,\"#46039f\"],[0.2222222222222222,\"#7201a8\"],[0.3333333333333333,\"#9c179e\"],[0.4444444444444444,\"#bd3786\"],[0.5555555555555556,\"#d8576b\"],[0.6666666666666666,\"#ed7953\"],[0.7777777777777778,\"#fb9f3a\"],[0.8888888888888888,\"#fdca26\"],[1.0,\"#f0f921\"]]}],\"mesh3d\":[{\"type\":\"mesh3d\",\"colorbar\":{\"outlinewidth\":0,\"ticks\":\"\"}}],\"scatter\":[{\"fillpattern\":{\"fillmode\":\"overlay\",\"size\":10,\"solidity\":0.2},\"type\":\"scatter\"}],\"parcoords\":[{\"type\":\"parcoords\",\"line\":{\"colorbar\":{\"outlinewidth\":0,\"ticks\":\"\"}}}],\"scatterpolargl\":[{\"type\":\"scatterpolargl\",\"marker\":{\"colorbar\":{\"outlinewidth\":0,\"ticks\":\"\"}}}],\"bar\":[{\"error_x\":{\"color\":\"#2a3f5f\"},\"error_y\":{\"color\":\"#2a3f5f\"},\"marker\":{\"line\":{\"color\":\"#E5ECF6\",\"width\":0.5},\"pattern\":{\"fillmode\":\"overlay\",\"size\":10,\"solidity\":0.2}},\"type\":\"bar\"}],\"scattergeo\":[{\"type\":\"scattergeo\",\"marker\":{\"colorbar\":{\"outlinewidth\":0,\"ticks\":\"\"}}}],\"scatterpolar\":[{\"type\":\"scatterpolar\",\"marker\":{\"colorbar\":{\"outlinewidth\":0,\"ticks\":\"\"}}}],\"histogram\":[{\"marker\":{\"pattern\":{\"fillmode\":\"overlay\",\"size\":10,\"solidity\":0.2}},\"type\":\"histogram\"}],\"scattergl\":[{\"type\":\"scattergl\",\"marker\":{\"colorbar\":{\"outlinewidth\":0,\"ticks\":\"\"}}}],\"scatter3d\":[{\"type\":\"scatter3d\",\"line\":{\"colorbar\":{\"outlinewidth\":0,\"ticks\":\"\"}},\"marker\":{\"colorbar\":{\"outlinewidth\":0,\"ticks\":\"\"}}}],\"scattermapbox\":[{\"type\":\"scattermapbox\",\"marker\":{\"colorbar\":{\"outlinewidth\":0,\"ticks\":\"\"}}}],\"scatterternary\":[{\"type\":\"scatterternary\",\"marker\":{\"colorbar\":{\"outlinewidth\":0,\"ticks\":\"\"}}}],\"scattercarpet\":[{\"type\":\"scattercarpet\",\"marker\":{\"colorbar\":{\"outlinewidth\":0,\"ticks\":\"\"}}}],\"carpet\":[{\"aaxis\":{\"endlinecolor\":\"#2a3f5f\",\"gridcolor\":\"white\",\"linecolor\":\"white\",\"minorgridcolor\":\"white\",\"startlinecolor\":\"#2a3f5f\"},\"baxis\":{\"endlinecolor\":\"#2a3f5f\",\"gridcolor\":\"white\",\"linecolor\":\"white\",\"minorgridcolor\":\"white\",\"startlinecolor\":\"#2a3f5f\"},\"type\":\"carpet\"}],\"table\":[{\"cells\":{\"fill\":{\"color\":\"#EBF0F8\"},\"line\":{\"color\":\"white\"}},\"header\":{\"fill\":{\"color\":\"#C8D4E3\"},\"line\":{\"color\":\"white\"}},\"type\":\"table\"}],\"barpolar\":[{\"marker\":{\"line\":{\"color\":\"#E5ECF6\",\"width\":0.5},\"pattern\":{\"fillmode\":\"overlay\",\"size\":10,\"solidity\":0.2}},\"type\":\"barpolar\"}],\"pie\":[{\"automargin\":true,\"type\":\"pie\"}]},\"layout\":{\"autotypenumbers\":\"strict\",\"colorway\":[\"#636efa\",\"#EF553B\",\"#00cc96\",\"#ab63fa\",\"#FFA15A\",\"#19d3f3\",\"#FF6692\",\"#B6E880\",\"#FF97FF\",\"#FECB52\"],\"font\":{\"color\":\"#2a3f5f\"},\"hovermode\":\"closest\",\"hoverlabel\":{\"align\":\"left\"},\"paper_bgcolor\":\"white\",\"plot_bgcolor\":\"#E5ECF6\",\"polar\":{\"bgcolor\":\"#E5ECF6\",\"angularaxis\":{\"gridcolor\":\"white\",\"linecolor\":\"white\",\"ticks\":\"\"},\"radialaxis\":{\"gridcolor\":\"white\",\"linecolor\":\"white\",\"ticks\":\"\"}},\"ternary\":{\"bgcolor\":\"#E5ECF6\",\"aaxis\":{\"gridcolor\":\"white\",\"linecolor\":\"white\",\"ticks\":\"\"},\"baxis\":{\"gridcolor\":\"white\",\"linecolor\":\"white\",\"ticks\":\"\"},\"caxis\":{\"gridcolor\":\"white\",\"linecolor\":\"white\",\"ticks\":\"\"}},\"coloraxis\":{\"colorbar\":{\"outlinewidth\":0,\"ticks\":\"\"}},\"colorscale\":{\"sequential\":[[0.0,\"#0d0887\"],[0.1111111111111111,\"#46039f\"],[0.2222222222222222,\"#7201a8\"],[0.3333333333333333,\"#9c179e\"],[0.4444444444444444,\"#bd3786\"],[0.5555555555555556,\"#d8576b\"],[0.6666666666666666,\"#ed7953\"],[0.7777777777777778,\"#fb9f3a\"],[0.8888888888888888,\"#fdca26\"],[1.0,\"#f0f921\"]],\"sequentialminus\":[[0.0,\"#0d0887\"],[0.1111111111111111,\"#46039f\"],[0.2222222222222222,\"#7201a8\"],[0.3333333333333333,\"#9c179e\"],[0.4444444444444444,\"#bd3786\"],[0.5555555555555556,\"#d8576b\"],[0.6666666666666666,\"#ed7953\"],[0.7777777777777778,\"#fb9f3a\"],[0.8888888888888888,\"#fdca26\"],[1.0,\"#f0f921\"]],\"diverging\":[[0,\"#8e0152\"],[0.1,\"#c51b7d\"],[0.2,\"#de77ae\"],[0.3,\"#f1b6da\"],[0.4,\"#fde0ef\"],[0.5,\"#f7f7f7\"],[0.6,\"#e6f5d0\"],[0.7,\"#b8e186\"],[0.8,\"#7fbc41\"],[0.9,\"#4d9221\"],[1,\"#276419\"]]},\"xaxis\":{\"gridcolor\":\"white\",\"linecolor\":\"white\",\"ticks\":\"\",\"title\":{\"standoff\":15},\"zerolinecolor\":\"white\",\"automargin\":true,\"zerolinewidth\":2},\"yaxis\":{\"gridcolor\":\"white\",\"linecolor\":\"white\",\"ticks\":\"\",\"title\":{\"standoff\":15},\"zerolinecolor\":\"white\",\"automargin\":true,\"zerolinewidth\":2},\"scene\":{\"xaxis\":{\"backgroundcolor\":\"#E5ECF6\",\"gridcolor\":\"white\",\"linecolor\":\"white\",\"showbackground\":true,\"ticks\":\"\",\"zerolinecolor\":\"white\",\"gridwidth\":2},\"yaxis\":{\"backgroundcolor\":\"#E5ECF6\",\"gridcolor\":\"white\",\"linecolor\":\"white\",\"showbackground\":true,\"ticks\":\"\",\"zerolinecolor\":\"white\",\"gridwidth\":2},\"zaxis\":{\"backgroundcolor\":\"#E5ECF6\",\"gridcolor\":\"white\",\"linecolor\":\"white\",\"showbackground\":true,\"ticks\":\"\",\"zerolinecolor\":\"white\",\"gridwidth\":2}},\"shapedefaults\":{\"line\":{\"color\":\"#2a3f5f\"}},\"annotationdefaults\":{\"arrowcolor\":\"#2a3f5f\",\"arrowhead\":0,\"arrowwidth\":1},\"geo\":{\"bgcolor\":\"white\",\"landcolor\":\"#E5ECF6\",\"subunitcolor\":\"white\",\"showland\":true,\"showlakes\":true,\"lakecolor\":\"white\"},\"title\":{\"x\":0.05},\"mapbox\":{\"style\":\"light\"}}},\"xaxis\":{\"anchor\":\"y\",\"domain\":[0.0,1.0],\"title\":{\"text\":\"Principal Component 1\"}},\"yaxis\":{\"anchor\":\"x\",\"domain\":[0.0,1.0],\"title\":{\"text\":\"Principal Component 2\"}},\"coloraxis\":{\"colorbar\":{\"title\":{\"text\":\"Cluster\"}},\"colorscale\":[[0.0,\"#440154\"],[0.1111111111111111,\"#482878\"],[0.2222222222222222,\"#3e4989\"],[0.3333333333333333,\"#31688e\"],[0.4444444444444444,\"#26828e\"],[0.5555555555555556,\"#1f9e89\"],[0.6666666666666666,\"#35b779\"],[0.7777777777777778,\"#6ece58\"],[0.8888888888888888,\"#b5de2b\"],[1.0,\"#fde725\"]]},\"legend\":{\"tracegroupgap\":0},\"title\":{\"text\":\"Customer Clusters Visualized with PCA\"},\"height\":600,\"width\":1000},                        {\"responsive\": true}                    ).then(function(){\n",
       "                            \n",
       "var gd = document.getElementById('633e671c-53a8-4224-9680-39cd8ac6ceee');\n",
       "var x = new MutationObserver(function (mutations, observer) {{\n",
       "        var display = window.getComputedStyle(gd).display;\n",
       "        if (!display || display === 'none') {{\n",
       "            console.log([gd, 'removed!']);\n",
       "            Plotly.purge(gd);\n",
       "            observer.disconnect();\n",
       "        }}\n",
       "}});\n",
       "\n",
       "// Listen for the removal of the full notebook cells\n",
       "var notebookContainer = gd.closest('#notebook-container');\n",
       "if (notebookContainer) {{\n",
       "    x.observe(notebookContainer, {childList: true});\n",
       "}}\n",
       "\n",
       "// Listen for the clearing of the current output cell\n",
       "var outputEl = gd.closest('.output');\n",
       "if (outputEl) {{\n",
       "    x.observe(outputEl, {childList: true});\n",
       "}}\n",
       "\n",
       "                        })                };                });            </script>        </div>"
      ]
     },
     "metadata": {},
     "output_type": "display_data"
    }
   ],
   "source": [
    "# Create interactive scatter plot\n",
    "fig = px.scatter(principal_components, \n",
    "                 x=principal_components[:, 0], \n",
    "                 y=principal_components[:, 1], \n",
    "                 color=clusters_dbscan,\n",
    "                 color_continuous_scale='viridis',\n",
    "                 opacity=0.6,\n",
    "                 title='Customer Clusters Visualized with PCA',\n",
    "                 width=1000,\n",
    "                 height=600)\n",
    "\n",
    "# Update layout and axis labels\n",
    "fig.update_layout(\n",
    "    xaxis_title='Principal Component 1',\n",
    "    yaxis_title='Principal Component 2',\n",
    "    coloraxis_colorbar=dict(title='Cluster')\n",
    ")\n",
    "\n",
    "fig.show()\n"
   ]
  },
  {
   "cell_type": "markdown",
   "id": "28e06272-42b8-4477-b372-13fd93cff97e",
   "metadata": {},
   "source": [
    "# 3. Agglomerative Hierarchical Clustering"
   ]
  },
  {
   "cell_type": "code",
   "execution_count": 229,
   "id": "3a8cb361-5ae8-4809-b444-b22a210d0f3e",
   "metadata": {},
   "outputs": [],
   "source": [
    "db_scores_agg = []\n",
    "silhouette_agg = []\n",
    "for k in range(2, 11):\n",
    "    agg = AgglomerativeClustering(n_clusters=k, linkage='ward')\n",
    "    clusters_agg = agg.fit_predict(scaled_features)\n",
    "    db_scores_agg.append(davies_bouldin_score(scaled_features, clusters_agg))\n",
    "    silhouette_agg.append(silhouette_score(scaled_features, clusters_agg))\n",
    "    \n",
    "best_k = np.argmin(db_scores_agg) + 2  "
   ]
  },
  {
   "cell_type": "code",
   "execution_count": 230,
   "id": "40b996d8-ba72-4789-bfc9-080206d19a87",
   "metadata": {},
   "outputs": [
    {
     "data": {
      "text/plain": [
       "10"
      ]
     },
     "execution_count": 230,
     "metadata": {},
     "output_type": "execute_result"
    }
   ],
   "source": [
    "best_k"
   ]
  },
  {
   "cell_type": "code",
   "execution_count": 231,
   "id": "3368e4ae-b7a6-4d72-8c89-a299b04b96ef",
   "metadata": {},
   "outputs": [
    {
     "data": {
      "text/plain": [
       "([1.9372158485044697,\n",
       "  2.1799515879708546,\n",
       "  2.072656062455479,\n",
       "  1.7837138279760896,\n",
       "  1.7244304236724313,\n",
       "  1.7604495612329862,\n",
       "  1.7708259815102632,\n",
       "  1.6833120881120194,\n",
       "  1.578105153924958],\n",
       " [0.16723634185177072,\n",
       "  0.11154356436422544,\n",
       "  0.13452373666350131,\n",
       "  0.15275194493999822,\n",
       "  0.15820675605589257,\n",
       "  0.16839063779693908,\n",
       "  0.16418828783822248,\n",
       "  0.17069126716110108,\n",
       "  0.1772607325580031])"
      ]
     },
     "execution_count": 231,
     "metadata": {},
     "output_type": "execute_result"
    }
   ],
   "source": [
    "db_scores_agg,silhouette_agg"
   ]
  },
  {
   "cell_type": "code",
   "execution_count": 232,
   "id": "948be0d0-ff26-4da0-89bf-98c46bdda585",
   "metadata": {},
   "outputs": [
    {
     "name": "stdout",
     "output_type": "stream",
     "text": [
      "Agglomerative Clusters: [0 1 2 3 4 5 6 7 8 9]\n",
      "DB Index (Agglomerative): 1.578\n"
     ]
    }
   ],
   "source": [
    "n_clusters = 10  # best_k\n",
    "agg = AgglomerativeClustering(n_clusters=n_clusters, linkage='ward')\n",
    "clusters_agg = agg.fit_predict(scaled_features)\n",
    "\n",
    "# Metrics\n",
    "db_index_agg = davies_bouldin_score(scaled_features, clusters_agg)\n",
    "print(f\"Agglomerative Clusters: {np.unique(clusters_agg)}\")\n",
    "print(f\"DB Index (Agglomerative): {db_index_agg:.3f}\")\n"
   ]
  },
  {
   "cell_type": "code",
   "execution_count": 233,
   "id": "b5dcb5d7-91d4-4d75-96c2-152aef892ff2",
   "metadata": {},
   "outputs": [
    {
     "data": {
      "image/png": "[encoded data removed]",
      "text/plain": [
       "<Figure size 640x480 with 1 Axes>"
      ]
     },
     "metadata": {},
     "output_type": "display_data"
    }
   ],
   "source": [
    "plt.scatter(principal_components[:, 0], principal_components[:, 1], c=clusters_agg, cmap='viridis')\n",
    "plt.title('Agglomerative Clusters (PCA)')\n",
    "plt.show()"
   ]
  },
  {
   "cell_type": "markdown",
   "id": "41ac755c-ae0e-48ee-9f5a-55778c6a25ae",
   "metadata": {},
   "source": [
    "# 4. Gaussian Mixture Model (GMM)"
   ]
  },
  {
   "cell_type": "code",
   "execution_count": 234,
   "id": "6f6f1fdb-bca7-4053-bf11-92ea0e79d73a",
   "metadata": {},
   "outputs": [
    {
     "name": "stderr",
     "output_type": "stream",
     "text": [
      "C:\\Users\\iamaj\\anaconda3\\Lib\\site-packages\\sklearn\\cluster\\_kmeans.py:1429: UserWarning:\n",
      "\n",
      "KMeans is known to have a memory leak on Windows with MKL, when there are less chunks than available threads. You can avoid it by setting the environment variable OMP_NUM_THREADS=1.\n",
      "\n",
      "C:\\Users\\iamaj\\anaconda3\\Lib\\site-packages\\sklearn\\cluster\\_kmeans.py:1429: UserWarning:\n",
      "\n",
      "KMeans is known to have a memory leak on Windows with MKL, when there are less chunks than available threads. You can avoid it by setting the environment variable OMP_NUM_THREADS=1.\n",
      "\n",
      "C:\\Users\\iamaj\\anaconda3\\Lib\\site-packages\\sklearn\\cluster\\_kmeans.py:1429: UserWarning:\n",
      "\n",
      "KMeans is known to have a memory leak on Windows with MKL, when there are less chunks than available threads. You can avoid it by setting the environment variable OMP_NUM_THREADS=1.\n",
      "\n",
      "C:\\Users\\iamaj\\anaconda3\\Lib\\site-packages\\sklearn\\cluster\\_kmeans.py:1429: UserWarning:\n",
      "\n",
      "KMeans is known to have a memory leak on Windows with MKL, when there are less chunks than available threads. You can avoid it by setting the environment variable OMP_NUM_THREADS=1.\n",
      "\n",
      "C:\\Users\\iamaj\\anaconda3\\Lib\\site-packages\\sklearn\\cluster\\_kmeans.py:1429: UserWarning:\n",
      "\n",
      "KMeans is known to have a memory leak on Windows with MKL, when there are less chunks than available threads. You can avoid it by setting the environment variable OMP_NUM_THREADS=1.\n",
      "\n",
      "C:\\Users\\iamaj\\anaconda3\\Lib\\site-packages\\sklearn\\cluster\\_kmeans.py:1429: UserWarning:\n",
      "\n",
      "KMeans is known to have a memory leak on Windows with MKL, when there are less chunks than available threads. You can avoid it by setting the environment variable OMP_NUM_THREADS=1.\n",
      "\n",
      "C:\\Users\\iamaj\\anaconda3\\Lib\\site-packages\\sklearn\\cluster\\_kmeans.py:1429: UserWarning:\n",
      "\n",
      "KMeans is known to have a memory leak on Windows with MKL, when there are less chunks than available threads. You can avoid it by setting the environment variable OMP_NUM_THREADS=1.\n",
      "\n",
      "C:\\Users\\iamaj\\anaconda3\\Lib\\site-packages\\sklearn\\cluster\\_kmeans.py:1429: UserWarning:\n",
      "\n",
      "KMeans is known to have a memory leak on Windows with MKL, when there are less chunks than available threads. You can avoid it by setting the environment variable OMP_NUM_THREADS=1.\n",
      "\n",
      "C:\\Users\\iamaj\\anaconda3\\Lib\\site-packages\\sklearn\\cluster\\_kmeans.py:1429: UserWarning:\n",
      "\n",
      "KMeans is known to have a memory leak on Windows with MKL, when there are less chunks than available threads. You can avoid it by setting the environment variable OMP_NUM_THREADS=1.\n",
      "\n"
     ]
    }
   ],
   "source": [
    "db_scores_gmm = []\n",
    "silhouette_gmm = []\n",
    "for k in range(2, 11):\n",
    "    gmm = GaussianMixture(n_components=k, random_state=42)\n",
    "    clusters_gmm = gmm.fit_predict(scaled_features)\n",
    "    db_scores_gmm.append(davies_bouldin_score(scaled_features, clusters_gmm))\n",
    "    silhouette_gmm.append(silhouette_score(scaled_features, clusters_gmm))\n",
    "best_k = np.argmin(db_scores_gmm) + 2  "
   ]
  },
  {
   "cell_type": "code",
   "execution_count": 236,
   "id": "4d6e568f-0017-47f5-a5df-31bf511574e0",
   "metadata": {},
   "outputs": [
    {
     "data": {
      "text/plain": [
       "([2.2102286957751325,\n",
       "  2.2350721057386846,\n",
       "  2.011795050413152,\n",
       "  1.9360392749653612,\n",
       "  1.9983188830225977,\n",
       "  1.8761611461110117,\n",
       "  2.098263624271904,\n",
       "  1.6474408055964547,\n",
       "  1.6864872133939834],\n",
       " [0.1475650686783616,\n",
       "  0.10623997794825321,\n",
       "  0.10747898892532282,\n",
       "  0.13171315633755434,\n",
       "  0.0954313344839111,\n",
       "  0.15592745496128824,\n",
       "  0.15373301446627705,\n",
       "  0.14753628097064145,\n",
       "  0.15416664266716018])"
      ]
     },
     "execution_count": 236,
     "metadata": {},
     "output_type": "execute_result"
    }
   ],
   "source": [
    "db_scores_gmm,silhouette_gmm"
   ]
  },
  {
   "cell_type": "code",
   "execution_count": 214,
   "id": "111ba07a-ea28-4619-b7c1-f9879803f228",
   "metadata": {},
   "outputs": [
    {
     "data": {
      "text/plain": [
       "9"
      ]
     },
     "execution_count": 214,
     "metadata": {},
     "output_type": "execute_result"
    }
   ],
   "source": [
    "best_k"
   ]
  },
  {
   "cell_type": "code",
   "execution_count": 215,
   "id": "dbc58fb2-4528-4a33-a69f-a53a64b115bd",
   "metadata": {},
   "outputs": [
    {
     "name": "stderr",
     "output_type": "stream",
     "text": [
      "C:\\Users\\iamaj\\anaconda3\\Lib\\site-packages\\sklearn\\cluster\\_kmeans.py:1429: UserWarning:\n",
      "\n",
      "KMeans is known to have a memory leak on Windows with MKL, when there are less chunks than available threads. You can avoid it by setting the environment variable OMP_NUM_THREADS=1.\n",
      "\n"
     ]
    }
   ],
   "source": [
    "n_clusters = 9\n",
    "gmm = GaussianMixture(n_components=n_clusters, random_state=42)\n",
    "clusters_gmm = gmm.fit_predict(scaled_features)"
   ]
  },
  {
   "cell_type": "code",
   "execution_count": 216,
   "id": "c35a46c2-2819-48f0-a99a-045c54c9ef88",
   "metadata": {},
   "outputs": [
    {
     "name": "stdout",
     "output_type": "stream",
     "text": [
      "GMM Clusters: [0 1 2 3 4 5 6 7 8]\n",
      "DB Index (GMM): 1.647\n"
     ]
    }
   ],
   "source": [
    "db_index_gmm = davies_bouldin_score(scaled_features, clusters_gmm)\n",
    "print(f\"GMM Clusters: {np.unique(clusters_gmm)}\")\n",
    "print(f\"DB Index (GMM): {db_index_gmm:.3f}\")"
   ]
  },
  {
   "cell_type": "code",
   "execution_count": 217,
   "id": "8c886ec7-04cd-4d8e-88d5-4c2e50b81b66",
   "metadata": {},
   "outputs": [
    {
     "data": {
      "image/png": "[encoded data removed]",
      "text/plain": [
       "<Figure size 640x480 with 1 Axes>"
      ]
     },
     "metadata": {},
     "output_type": "display_data"
    }
   ],
   "source": [
    "plt.scatter(principal_components[:, 0], principal_components[:, 1], c=clusters_gmm, cmap='viridis')\n",
    "plt.title('GMM Clusters (PCA)')\n",
    "plt.show()"
   ]
  },
  {
   "cell_type": "code",
   "execution_count": null,
   "id": "80dc922f-1425-4d7e-a267-5120046d3bfa",
   "metadata": {},
   "outputs": [],
   "source": []
  },
  {
   "cell_type": "code",
   "execution_count": null,
   "id": "cbba204f-9714-4a10-b728-9dfa6f821d9b",
   "metadata": {},
   "outputs": [],
   "source": []
  }
 ],
 "metadata": {
  "kernelspec": {
   "display_name": "Python 3 (ipykernel)",
   "language": "python",
   "name": "python3"
  },
  "language_info": {
   "codemirror_mode": {
    "name": "ipython",
    "version": 3
   },
   "file_extension": ".py",
   "mimetype": "text/x-python",
   "name": "python",
   "nbconvert_exporter": "python",
   "pygments_lexer": "ipython3",
   "version": "3.12.7"
  }
 },
 "nbformat": 4,
 "nbformat_minor": 5
}
